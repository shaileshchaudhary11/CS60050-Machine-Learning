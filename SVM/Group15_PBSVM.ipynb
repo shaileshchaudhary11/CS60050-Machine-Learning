{
 "cells": [
  {
   "cell_type": "markdown",
   "metadata": {},
   "source": [
    "# GROUP - 15\n",
    "\n",
    "# 19CE10035 Kamal Kyal\n",
    "\n",
    "# 19EC39045 Rishi Suman\n",
    "\n",
    "# 22CS60R37 Shailesh Chaudhary\n",
    "\n",
    "# Project Code: PBSVM\n",
    "\n",
    "# Predict Behavior using Support Vector Machines\n"
   ]
  },
  {
   "cell_type": "markdown",
   "metadata": {
    "id": "LrCB-DyKwV0o"
   },
   "source": [
    "#**Making Changes to the Dataset to use it in further analysis.**"
   ]
  },
  {
   "cell_type": "markdown",
   "metadata": {
    "id": "r3H2xyUQJaSK"
   },
   "source": [
    "**Importing the Libraries which we are allowed to use. (Section of Code taken from the Problem Statement)**"
   ]
  },
  {
   "cell_type": "code",
   "execution_count": 1,
   "metadata": {
    "id": "i1eUdXzCyiXX"
   },
   "outputs": [],
   "source": [
    "import numpy as np\n",
    "import csv \n",
    "import pandas as pd\n",
    "from sklearn.model_selection import train_test_split\n",
    "from sklearn.metrics import accuracy_score\n",
    "from sklearn.metrics import classification_report\n",
    "from sklearn.model_selection import KFold\n",
    "from sklearn import metrics\n",
    "import operator\n",
    "from math import log\n",
    "from collections import Counter\n",
    "import matplotlib.pyplot as plt\n",
    "from sklearn.svm import SVC"
   ]
  },
  {
   "cell_type": "markdown",
   "metadata": {
    "id": "0iF2Wv9mFKG3"
   },
   "source": [
    "**Read in the dataset and perform basic exploratory analysis**"
   ]
  },
  {
   "cell_type": "code",
   "execution_count": 2,
   "metadata": {
    "colab": {
     "base_uri": "https://localhost:8080/"
    },
    "id": "RusJQO3nzkZK",
    "outputId": "a3df66ca-33ca-4b9d-d7d1-a4742ee9b351"
   },
   "outputs": [
    {
     "data": {
      "text/html": [
       "<div>\n",
       "<style scoped>\n",
       "    .dataframe tbody tr th:only-of-type {\n",
       "        vertical-align: middle;\n",
       "    }\n",
       "\n",
       "    .dataframe tbody tr th {\n",
       "        vertical-align: top;\n",
       "    }\n",
       "\n",
       "    .dataframe thead th {\n",
       "        text-align: right;\n",
       "    }\n",
       "</style>\n",
       "<table border=\"1\" class=\"dataframe\">\n",
       "  <thead>\n",
       "    <tr style=\"text-align: right;\">\n",
       "      <th></th>\n",
       "      <th>State</th>\n",
       "      <th>Account length</th>\n",
       "      <th>Area code</th>\n",
       "      <th>International plan</th>\n",
       "      <th>Voice mail plan</th>\n",
       "      <th>Number vmail messages</th>\n",
       "      <th>Total day minutes</th>\n",
       "      <th>Total day calls</th>\n",
       "      <th>Total day charge</th>\n",
       "      <th>Total eve minutes</th>\n",
       "      <th>Total eve calls</th>\n",
       "      <th>Total eve charge</th>\n",
       "      <th>Total night minutes</th>\n",
       "      <th>Total night calls</th>\n",
       "      <th>Total night charge</th>\n",
       "      <th>Total intl minutes</th>\n",
       "      <th>Total intl calls</th>\n",
       "      <th>Total intl charge</th>\n",
       "      <th>Customer service calls</th>\n",
       "      <th>Churn</th>\n",
       "    </tr>\n",
       "  </thead>\n",
       "  <tbody>\n",
       "    <tr>\n",
       "      <th>0</th>\n",
       "      <td>KS</td>\n",
       "      <td>128</td>\n",
       "      <td>415</td>\n",
       "      <td>No</td>\n",
       "      <td>Yes</td>\n",
       "      <td>25</td>\n",
       "      <td>265.1</td>\n",
       "      <td>110</td>\n",
       "      <td>45.07</td>\n",
       "      <td>197.4</td>\n",
       "      <td>99</td>\n",
       "      <td>16.78</td>\n",
       "      <td>244.7</td>\n",
       "      <td>91</td>\n",
       "      <td>11.01</td>\n",
       "      <td>10.0</td>\n",
       "      <td>3</td>\n",
       "      <td>2.70</td>\n",
       "      <td>1</td>\n",
       "      <td>False</td>\n",
       "    </tr>\n",
       "    <tr>\n",
       "      <th>1</th>\n",
       "      <td>OH</td>\n",
       "      <td>107</td>\n",
       "      <td>415</td>\n",
       "      <td>No</td>\n",
       "      <td>Yes</td>\n",
       "      <td>26</td>\n",
       "      <td>161.6</td>\n",
       "      <td>123</td>\n",
       "      <td>27.47</td>\n",
       "      <td>195.5</td>\n",
       "      <td>103</td>\n",
       "      <td>16.62</td>\n",
       "      <td>254.4</td>\n",
       "      <td>103</td>\n",
       "      <td>11.45</td>\n",
       "      <td>13.7</td>\n",
       "      <td>3</td>\n",
       "      <td>3.70</td>\n",
       "      <td>1</td>\n",
       "      <td>False</td>\n",
       "    </tr>\n",
       "    <tr>\n",
       "      <th>2</th>\n",
       "      <td>NJ</td>\n",
       "      <td>137</td>\n",
       "      <td>415</td>\n",
       "      <td>No</td>\n",
       "      <td>No</td>\n",
       "      <td>0</td>\n",
       "      <td>243.4</td>\n",
       "      <td>114</td>\n",
       "      <td>41.38</td>\n",
       "      <td>121.2</td>\n",
       "      <td>110</td>\n",
       "      <td>10.30</td>\n",
       "      <td>162.6</td>\n",
       "      <td>104</td>\n",
       "      <td>7.32</td>\n",
       "      <td>12.2</td>\n",
       "      <td>5</td>\n",
       "      <td>3.29</td>\n",
       "      <td>0</td>\n",
       "      <td>False</td>\n",
       "    </tr>\n",
       "    <tr>\n",
       "      <th>3</th>\n",
       "      <td>OH</td>\n",
       "      <td>84</td>\n",
       "      <td>408</td>\n",
       "      <td>Yes</td>\n",
       "      <td>No</td>\n",
       "      <td>0</td>\n",
       "      <td>299.4</td>\n",
       "      <td>71</td>\n",
       "      <td>50.90</td>\n",
       "      <td>61.9</td>\n",
       "      <td>88</td>\n",
       "      <td>5.26</td>\n",
       "      <td>196.9</td>\n",
       "      <td>89</td>\n",
       "      <td>8.86</td>\n",
       "      <td>6.6</td>\n",
       "      <td>7</td>\n",
       "      <td>1.78</td>\n",
       "      <td>2</td>\n",
       "      <td>False</td>\n",
       "    </tr>\n",
       "    <tr>\n",
       "      <th>4</th>\n",
       "      <td>OK</td>\n",
       "      <td>75</td>\n",
       "      <td>415</td>\n",
       "      <td>Yes</td>\n",
       "      <td>No</td>\n",
       "      <td>0</td>\n",
       "      <td>166.7</td>\n",
       "      <td>113</td>\n",
       "      <td>28.34</td>\n",
       "      <td>148.3</td>\n",
       "      <td>122</td>\n",
       "      <td>12.61</td>\n",
       "      <td>186.9</td>\n",
       "      <td>121</td>\n",
       "      <td>8.41</td>\n",
       "      <td>10.1</td>\n",
       "      <td>3</td>\n",
       "      <td>2.73</td>\n",
       "      <td>3</td>\n",
       "      <td>False</td>\n",
       "    </tr>\n",
       "  </tbody>\n",
       "</table>\n",
       "</div>"
      ],
      "text/plain": [
       "  State  Account length  Area code International plan Voice mail plan  \\\n",
       "0    KS             128        415                 No             Yes   \n",
       "1    OH             107        415                 No             Yes   \n",
       "2    NJ             137        415                 No              No   \n",
       "3    OH              84        408                Yes              No   \n",
       "4    OK              75        415                Yes              No   \n",
       "\n",
       "   Number vmail messages  Total day minutes  Total day calls  \\\n",
       "0                     25              265.1              110   \n",
       "1                     26              161.6              123   \n",
       "2                      0              243.4              114   \n",
       "3                      0              299.4               71   \n",
       "4                      0              166.7              113   \n",
       "\n",
       "   Total day charge  Total eve minutes  Total eve calls  Total eve charge  \\\n",
       "0             45.07              197.4               99             16.78   \n",
       "1             27.47              195.5              103             16.62   \n",
       "2             41.38              121.2              110             10.30   \n",
       "3             50.90               61.9               88              5.26   \n",
       "4             28.34              148.3              122             12.61   \n",
       "\n",
       "   Total night minutes  Total night calls  Total night charge  \\\n",
       "0                244.7                 91               11.01   \n",
       "1                254.4                103               11.45   \n",
       "2                162.6                104                7.32   \n",
       "3                196.9                 89                8.86   \n",
       "4                186.9                121                8.41   \n",
       "\n",
       "   Total intl minutes  Total intl calls  Total intl charge  \\\n",
       "0                10.0                 3               2.70   \n",
       "1                13.7                 3               3.70   \n",
       "2                12.2                 5               3.29   \n",
       "3                 6.6                 7               1.78   \n",
       "4                10.1                 3               2.73   \n",
       "\n",
       "   Customer service calls  Churn  \n",
       "0                       1  False  \n",
       "1                       1  False  \n",
       "2                       0  False  \n",
       "3                       2  False  \n",
       "4                       3  False  "
      ]
     },
     "execution_count": 2,
     "metadata": {},
     "output_type": "execute_result"
    }
   ],
   "source": [
    "# Loading the dataset\n",
    "df = pd.read_csv('telecom_churn.csv')\n",
    "df.head()"
   ]
  },
  {
   "cell_type": "code",
   "execution_count": 3,
   "metadata": {
    "colab": {
     "base_uri": "https://localhost:8080/"
    },
    "id": "rgV8M1dFz3K8",
    "outputId": "a50c3c6f-4bba-4c2e-e0d8-4ab6106802cf"
   },
   "outputs": [
    {
     "name": "stdout",
     "output_type": "stream",
     "text": [
      "<class 'pandas.core.frame.DataFrame'>\n",
      "RangeIndex: 3333 entries, 0 to 3332\n",
      "Data columns (total 20 columns):\n",
      " #   Column                  Non-Null Count  Dtype  \n",
      "---  ------                  --------------  -----  \n",
      " 0   State                   3333 non-null   object \n",
      " 1   Account length          3333 non-null   int64  \n",
      " 2   Area code               3333 non-null   int64  \n",
      " 3   International plan      3333 non-null   object \n",
      " 4   Voice mail plan         3333 non-null   object \n",
      " 5   Number vmail messages   3333 non-null   int64  \n",
      " 6   Total day minutes       3333 non-null   float64\n",
      " 7   Total day calls         3333 non-null   int64  \n",
      " 8   Total day charge        3333 non-null   float64\n",
      " 9   Total eve minutes       3333 non-null   float64\n",
      " 10  Total eve calls         3333 non-null   int64  \n",
      " 11  Total eve charge        3333 non-null   float64\n",
      " 12  Total night minutes     3333 non-null   float64\n",
      " 13  Total night calls       3333 non-null   int64  \n",
      " 14  Total night charge      3333 non-null   float64\n",
      " 15  Total intl minutes      3333 non-null   float64\n",
      " 16  Total intl calls        3333 non-null   int64  \n",
      " 17  Total intl charge       3333 non-null   float64\n",
      " 18  Customer service calls  3333 non-null   int64  \n",
      " 19  Churn                   3333 non-null   bool   \n",
      "dtypes: bool(1), float64(8), int64(8), object(3)\n",
      "memory usage: 498.1+ KB\n"
     ]
    }
   ],
   "source": [
    "#Checking the Data\n",
    "df.info()"
   ]
  },
  {
   "cell_type": "markdown",
   "metadata": {
    "id": "CYegEX5GE65C"
   },
   "source": [
    "**Storing the Labels for Plotting the Samples towards the Later Parts of the Code**"
   ]
  },
  {
   "cell_type": "code",
   "execution_count": 4,
   "metadata": {
    "colab": {
     "base_uri": "https://localhost:8080/"
    },
    "id": "2NINOK8GC-bW",
    "outputId": "54405794-7177-4583-d6e5-3130cff9ea52"
   },
   "outputs": [
    {
     "name": "stdout",
     "output_type": "stream",
     "text": [
      "[False False False ... False False False]\n"
     ]
    }
   ],
   "source": [
    "labels = df[\"Churn\"].values # as numpy array\n",
    "print(labels)"
   ]
  },
  {
   "cell_type": "markdown",
   "metadata": {
    "id": "Wrd-yiEpKK15"
   },
   "source": [
    "**Removing Spaces from Column Names in the Dataset**"
   ]
  },
  {
   "cell_type": "code",
   "execution_count": 5,
   "metadata": {
    "id": "tq7xlLjQJ64N"
   },
   "outputs": [],
   "source": [
    "# Function to clean column names\n",
    "def column_name_remove_space(df):\n",
    "    for x in df.columns:\n",
    "        if \" \" in x:\n",
    "            df = df.rename(columns={x:x.replace(\" \",\"_\").replace(\"(\",\"\")\n",
    "                                    .replace(\")\",\"\").replace(\",\",\"_\").replace(\"/\",\"_\")})\n",
    "    return df"
   ]
  },
  {
   "cell_type": "markdown",
   "metadata": {
    "id": "xQil1hSmKQyV"
   },
   "source": [
    "**Removing Object datatype Columns from the Dataset as these are not important for Principal Component Analysis. Labels are also removed as they are also not important in PCA.**"
   ]
  },
  {
   "cell_type": "code",
   "execution_count": 6,
   "metadata": {
    "id": "DImIME5a0CRe"
   },
   "outputs": [],
   "source": [
    "# Following data columns are not important for data analysis (categorical data, geolocation data etc)\n",
    "to_drop = ['State','International_plan','Voice_mail_plan', 'Churn']\n",
    "\n",
    "# Fix all columns\n",
    "data = column_name_remove_space(df)\n",
    "\n",
    "#Removing the Columns mentioned under to_drop list\n",
    "data.drop(columns=to_drop,inplace=True)"
   ]
  },
  {
   "cell_type": "code",
   "execution_count": 7,
   "metadata": {
    "colab": {
     "base_uri": "https://localhost:8080/"
    },
    "id": "qmnwVV0E2FoM",
    "outputId": "a83f469b-0480-46b3-b4a4-2a0700b29e60"
   },
   "outputs": [
    {
     "data": {
      "text/plain": [
       "False"
      ]
     },
     "execution_count": 7,
     "metadata": {},
     "output_type": "execute_result"
    }
   ],
   "source": [
    "# Check for null values\n",
    "data.isna().any(axis=0).any()"
   ]
  },
  {
   "cell_type": "markdown",
   "metadata": {
    "id": "pFupP1l0KvmC"
   },
   "source": [
    "**Final Dataset to be used for PCA/LDA Analysis**"
   ]
  },
  {
   "cell_type": "code",
   "execution_count": 8,
   "metadata": {
    "colab": {
     "base_uri": "https://localhost:8080/"
    },
    "id": "q_5RiWkh6Whh",
    "outputId": "a13e929c-3f12-4c76-928a-da9233e64f53"
   },
   "outputs": [
    {
     "data": {
      "text/html": [
       "<div>\n",
       "<style scoped>\n",
       "    .dataframe tbody tr th:only-of-type {\n",
       "        vertical-align: middle;\n",
       "    }\n",
       "\n",
       "    .dataframe tbody tr th {\n",
       "        vertical-align: top;\n",
       "    }\n",
       "\n",
       "    .dataframe thead th {\n",
       "        text-align: right;\n",
       "    }\n",
       "</style>\n",
       "<table border=\"1\" class=\"dataframe\">\n",
       "  <thead>\n",
       "    <tr style=\"text-align: right;\">\n",
       "      <th></th>\n",
       "      <th>Account_length</th>\n",
       "      <th>Area_code</th>\n",
       "      <th>Number_vmail_messages</th>\n",
       "      <th>Total_day_minutes</th>\n",
       "      <th>Total_day_calls</th>\n",
       "      <th>Total_day_charge</th>\n",
       "      <th>Total_eve_minutes</th>\n",
       "      <th>Total_eve_calls</th>\n",
       "      <th>Total_eve_charge</th>\n",
       "      <th>Total_night_minutes</th>\n",
       "      <th>Total_night_calls</th>\n",
       "      <th>Total_night_charge</th>\n",
       "      <th>Total_intl_minutes</th>\n",
       "      <th>Total_intl_calls</th>\n",
       "      <th>Total_intl_charge</th>\n",
       "      <th>Customer_service_calls</th>\n",
       "    </tr>\n",
       "  </thead>\n",
       "  <tbody>\n",
       "    <tr>\n",
       "      <th>0</th>\n",
       "      <td>128</td>\n",
       "      <td>415</td>\n",
       "      <td>25</td>\n",
       "      <td>265.1</td>\n",
       "      <td>110</td>\n",
       "      <td>45.07</td>\n",
       "      <td>197.4</td>\n",
       "      <td>99</td>\n",
       "      <td>16.78</td>\n",
       "      <td>244.7</td>\n",
       "      <td>91</td>\n",
       "      <td>11.01</td>\n",
       "      <td>10.0</td>\n",
       "      <td>3</td>\n",
       "      <td>2.70</td>\n",
       "      <td>1</td>\n",
       "    </tr>\n",
       "    <tr>\n",
       "      <th>1</th>\n",
       "      <td>107</td>\n",
       "      <td>415</td>\n",
       "      <td>26</td>\n",
       "      <td>161.6</td>\n",
       "      <td>123</td>\n",
       "      <td>27.47</td>\n",
       "      <td>195.5</td>\n",
       "      <td>103</td>\n",
       "      <td>16.62</td>\n",
       "      <td>254.4</td>\n",
       "      <td>103</td>\n",
       "      <td>11.45</td>\n",
       "      <td>13.7</td>\n",
       "      <td>3</td>\n",
       "      <td>3.70</td>\n",
       "      <td>1</td>\n",
       "    </tr>\n",
       "    <tr>\n",
       "      <th>2</th>\n",
       "      <td>137</td>\n",
       "      <td>415</td>\n",
       "      <td>0</td>\n",
       "      <td>243.4</td>\n",
       "      <td>114</td>\n",
       "      <td>41.38</td>\n",
       "      <td>121.2</td>\n",
       "      <td>110</td>\n",
       "      <td>10.30</td>\n",
       "      <td>162.6</td>\n",
       "      <td>104</td>\n",
       "      <td>7.32</td>\n",
       "      <td>12.2</td>\n",
       "      <td>5</td>\n",
       "      <td>3.29</td>\n",
       "      <td>0</td>\n",
       "    </tr>\n",
       "    <tr>\n",
       "      <th>3</th>\n",
       "      <td>84</td>\n",
       "      <td>408</td>\n",
       "      <td>0</td>\n",
       "      <td>299.4</td>\n",
       "      <td>71</td>\n",
       "      <td>50.90</td>\n",
       "      <td>61.9</td>\n",
       "      <td>88</td>\n",
       "      <td>5.26</td>\n",
       "      <td>196.9</td>\n",
       "      <td>89</td>\n",
       "      <td>8.86</td>\n",
       "      <td>6.6</td>\n",
       "      <td>7</td>\n",
       "      <td>1.78</td>\n",
       "      <td>2</td>\n",
       "    </tr>\n",
       "    <tr>\n",
       "      <th>4</th>\n",
       "      <td>75</td>\n",
       "      <td>415</td>\n",
       "      <td>0</td>\n",
       "      <td>166.7</td>\n",
       "      <td>113</td>\n",
       "      <td>28.34</td>\n",
       "      <td>148.3</td>\n",
       "      <td>122</td>\n",
       "      <td>12.61</td>\n",
       "      <td>186.9</td>\n",
       "      <td>121</td>\n",
       "      <td>8.41</td>\n",
       "      <td>10.1</td>\n",
       "      <td>3</td>\n",
       "      <td>2.73</td>\n",
       "      <td>3</td>\n",
       "    </tr>\n",
       "  </tbody>\n",
       "</table>\n",
       "</div>"
      ],
      "text/plain": [
       "   Account_length  Area_code  Number_vmail_messages  Total_day_minutes  \\\n",
       "0             128        415                     25              265.1   \n",
       "1             107        415                     26              161.6   \n",
       "2             137        415                      0              243.4   \n",
       "3              84        408                      0              299.4   \n",
       "4              75        415                      0              166.7   \n",
       "\n",
       "   Total_day_calls  Total_day_charge  Total_eve_minutes  Total_eve_calls  \\\n",
       "0              110             45.07              197.4               99   \n",
       "1              123             27.47              195.5              103   \n",
       "2              114             41.38              121.2              110   \n",
       "3               71             50.90               61.9               88   \n",
       "4              113             28.34              148.3              122   \n",
       "\n",
       "   Total_eve_charge  Total_night_minutes  Total_night_calls  \\\n",
       "0             16.78                244.7                 91   \n",
       "1             16.62                254.4                103   \n",
       "2             10.30                162.6                104   \n",
       "3              5.26                196.9                 89   \n",
       "4             12.61                186.9                121   \n",
       "\n",
       "   Total_night_charge  Total_intl_minutes  Total_intl_calls  \\\n",
       "0               11.01                10.0                 3   \n",
       "1               11.45                13.7                 3   \n",
       "2                7.32                12.2                 5   \n",
       "3                8.86                 6.6                 7   \n",
       "4                8.41                10.1                 3   \n",
       "\n",
       "   Total_intl_charge  Customer_service_calls  \n",
       "0               2.70                       1  \n",
       "1               3.70                       1  \n",
       "2               3.29                       0  \n",
       "3               1.78                       2  \n",
       "4               2.73                       3  "
      ]
     },
     "execution_count": 8,
     "metadata": {},
     "output_type": "execute_result"
    }
   ],
   "source": [
    "data.head()"
   ]
  },
  {
   "cell_type": "markdown",
   "metadata": {
    "id": "cCSVDGFPK3v7"
   },
   "source": [
    "**Saving it as a .csv file**"
   ]
  },
  {
   "cell_type": "code",
   "execution_count": 9,
   "metadata": {
    "id": "dmQIFZBA6tvc"
   },
   "outputs": [],
   "source": [
    "data.to_csv('PCA_data.csv')"
   ]
  },
  {
   "cell_type": "markdown",
   "metadata": {
    "id": "V5W1wTbDFfpw"
   },
   "source": [
    "# **Principal Component Analysis**"
   ]
  },
  {
   "cell_type": "markdown",
   "metadata": {
    "id": "ujNCkOAGCd5R"
   },
   "source": [
    "1.   Here, X is the data matrix with shape (number_of_samples, number_of_features) and labels is the array of class labels with shape (number_of_samples,).\n",
    "\n",
    "2.    We Scale the data before applying PCA so that no feature dominates. When dealing with data that has features with different scales, it's often important to scale the data first. This is because data that has larger values may sway the data even with relatively little variability\n",
    "\n",
    "3.    We center the data by subtracting the mean of each feature from each data point.\n",
    "\n",
    "4.   We then compute the covariance matrix and its eigenvalues and eigenvectors using NumPy's np.cov() and np.linalg.eig() functions, respectively. \n",
    "\n",
    "5.   We sort the eigenvalues and eigenvectors in descending order, and project the data onto the first two principal components (In the direction of the Maximum and 2nd Largest Eigenvalues). \n",
    "\n",
    "6.   Finally, we plot the reduced dimensional data using Matplotlib's plt.scatter() function, with colors assigned based on the class labels using a dictionary."
   ]
  },
  {
   "cell_type": "code",
   "execution_count": 10,
   "metadata": {
    "colab": {
     "base_uri": "https://localhost:8080/"
    },
    "id": "PGPMM6k-68U8",
    "outputId": "757a502c-09c9-446c-f96c-018720188586"
   },
   "outputs": [
    {
     "data": {
      "text/plain": [
       "(3333, 16)"
      ]
     },
     "execution_count": 10,
     "metadata": {},
     "output_type": "execute_result"
    }
   ],
   "source": [
    "X = data\n",
    "X.shape"
   ]
  },
  {
   "cell_type": "code",
   "execution_count": 11,
   "metadata": {
    "colab": {
     "base_uri": "https://localhost:8080/"
    },
    "id": "ZABWR2D47vc0",
    "outputId": "9672c66d-3dd8-4752-cf50-e41c4afc53ae"
   },
   "outputs": [
    {
     "name": "stdout",
     "output_type": "stream",
     "text": [
      "The shape of Feature Matrix is  (3333, 16)\n"
     ]
    }
   ],
   "source": [
    "mean_ = X.mean(axis =0)\n",
    "std_ = X.std(axis=0)\n",
    "\n",
    "X_std =  (X-mean_)/std_\n",
    "#print (X_std[0:5])\n",
    "print (\"The shape of Feature Matrix is \",X_std.shape)"
   ]
  },
  {
   "cell_type": "code",
   "execution_count": 12,
   "metadata": {
    "colab": {
     "base_uri": "https://localhost:8080/"
    },
    "id": "UqgvwoBIAwza",
    "outputId": "27f0028f-c249-499f-c3d8-230bc11faf34"
   },
   "outputs": [
    {
     "name": "stdout",
     "output_type": "stream",
     "text": [
      "(16, 16)\n"
     ]
    }
   ],
   "source": [
    "# Center the data\n",
    "X_mean = np.mean(X_std, axis=0)\n",
    "X_centered = X_std - X_mean\n",
    "cov_mat = np.cov(X_centered.T)\n",
    "print(cov_mat.shape)"
   ]
  },
  {
   "cell_type": "code",
   "execution_count": 13,
   "metadata": {
    "id": "32_KKS8iBVfi"
   },
   "outputs": [],
   "source": [
    "# Compute the eigenvalues and eigenvectors of the covariance matrix\n",
    "eigenvalues, eigenvectors = np.linalg.eig(cov_mat)"
   ]
  },
  {
   "cell_type": "code",
   "execution_count": 14,
   "metadata": {
    "id": "pQhhNKSWBZxd"
   },
   "outputs": [],
   "source": [
    "# Sort the eigenvalues and eigenvectors in descending order\n",
    "idx = eigenvalues.argsort()[::-1]\n",
    "eigenvalues = eigenvalues[idx]\n",
    "eigenvectors = eigenvectors[:, idx]"
   ]
  },
  {
   "cell_type": "code",
   "execution_count": 15,
   "metadata": {
    "colab": {
     "base_uri": "https://localhost:8080/"
    },
    "id": "4JmWiwp8Bh4t",
    "outputId": "053a80c5-a025-4dea-f1a8-781efd02731f"
   },
   "outputs": [
    {
     "name": "stdout",
     "output_type": "stream",
     "text": [
      "             0         1\n",
      "0     1.661432  0.560340\n",
      "1    -0.852726  1.208163\n",
      "2    -0.995789  0.690156\n",
      "3     1.623030  2.234203\n",
      "4    -0.670119  0.925866\n",
      "...        ...       ...\n",
      "3328  0.799500  1.179937\n",
      "3329  0.468681  0.506771\n",
      "3330 -0.764963 -1.976116\n",
      "3331  1.216102 -0.463496\n",
      "3332  0.447554 -0.792713\n",
      "\n",
      "[3333 rows x 2 columns]\n"
     ]
    }
   ],
   "source": [
    "# Project the data onto the first two principal components\n",
    "X_pca = X_centered @ eigenvectors[:, :2]\n",
    "print(X_pca)"
   ]
  },
  {
   "cell_type": "code",
   "execution_count": 16,
   "metadata": {
    "colab": {
     "base_uri": "https://localhost:8080/",
     "height": 279
    },
    "id": "uSL4lrsbBmm5",
    "outputId": "7657a3e8-b205-47ab-b5a3-5a7b6eadea7f"
   },
   "outputs": [
    {
     "data": {
      "image/png": "[encoded data removed]",
      "text/plain": [
       "<Figure size 640x480 with 1 Axes>"
      ]
     },
     "metadata": {},
     "output_type": "display_data"
    }
   ],
   "source": [
    "# Plot the reduced dimensional data\n",
    "colors = {0: 'orange', 1: 'blue'}\n",
    "\n",
    "for i in range(len(X_pca)):\n",
    "    plt.scatter(X_pca[0][i], X_pca[1][i], color=colors[labels[i]])\n",
    "\n",
    "plt.xlabel('Principal Component 1')\n",
    "plt.ylabel('Principal Component 2')\n",
    "plt.show()"
   ]
  },
  {
   "cell_type": "markdown",
   "metadata": {
    "id": "GgZvTT2tRt9y"
   },
   "source": [
    "# **Comparison of my PCA Plot with the inbuilt PCA Available in sklearn**"
   ]
  },
  {
   "cell_type": "code",
   "execution_count": 17,
   "metadata": {
    "colab": {
     "base_uri": "https://localhost:8080/"
    },
    "id": "FIpREm6iHIl1",
    "outputId": "cc471031-e7a6-4bc5-8428-bfd41220ab64"
   },
   "outputs": [
    {
     "name": "stdout",
     "output_type": "stream",
     "text": [
      "[[ 1.66143163  0.56034048]\n",
      " [-0.852726    1.20816323]\n",
      " [-0.99578875  0.69015581]\n",
      " ...\n",
      " [-0.76496312 -1.9761156 ]\n",
      " [ 1.21610224 -0.46349569]\n",
      " [ 0.44755373 -0.79271329]]\n"
     ]
    }
   ],
   "source": [
    "from sklearn.decomposition import PCA\n",
    "from sklearn.preprocessing import StandardScaler\n",
    "\n",
    "# Instantiate PCA object with 2 components\n",
    "pca = PCA(n_components=2)\n",
    "\n",
    "# Fit and transform the training data\n",
    "X_train_pca = pca.fit_transform(X_std)\n",
    "\n",
    "# Transform the test data\n",
    "X_test_pca = pca.transform(X_std)\n",
    "\n",
    "print(X_train_pca)"
   ]
  },
  {
   "cell_type": "code",
   "execution_count": 18,
   "metadata": {
    "colab": {
     "base_uri": "https://localhost:8080/",
     "height": 279
    },
    "id": "751Dct3JF5TR",
    "outputId": "9b032df0-3f54-4432-e0fb-8658408e0bfe"
   },
   "outputs": [
    {
     "data": {
      "image/png": "[encoded data removed]",
      "text/plain": [
       "<Figure size 640x480 with 1 Axes>"
      ]
     },
     "metadata": {},
     "output_type": "display_data"
    }
   ],
   "source": [
    "import matplotlib.pyplot as plt\n",
    "\n",
    "# Set up a dictionary to map class labels to colors\n",
    "colors = {0: 'orange',  1: 'blue'}\n",
    "\n",
    "# Plot the reduced dimensional data\n",
    "for i in range(len(X_train_pca)):\n",
    "    plt.scatter(X_train_pca[i, 0], X_train_pca[i, 1], color=colors[labels[i]])\n",
    "    \n",
    "plt.xlabel('Principal Component 1')\n",
    "plt.ylabel('Principal Component 2')\n",
    "plt.show()"
   ]
  },
  {
   "cell_type": "markdown",
   "metadata": {
    "id": "4-JjjaAlWJAG"
   },
   "source": [
    "# **SVM**"
   ]
  },
  {
   "cell_type": "markdown",
   "metadata": {
    "id": "j04SN-QFlhPm"
   },
   "source": [
    "various parameters to tune the SVM"
   ]
  },
  {
   "cell_type": "markdown",
   "metadata": {
    "id": "V4VvQLJJXupS"
   },
   "source": [
    "1.   C: float, default=1.0. Regularization parameter. The penalty is inversely proportional to C, a squared l2 penalty.\n",
    "2.   kernel: {‘linear’, ‘poly’, ‘rbf’, ‘sigmoid’, ‘precomputed’} or callable, default=’rbf’\n",
    "3.   gamma: {‘scale’, ‘auto’} or float, default=’scale’\n",
    "\n",
    "if gamma='scale' (default) = 1 / (n_features * X.var())\n",
    "\n",
    "if ‘auto’ = 1 / n_features\n",
    "\n"
   ]
  },
  {
   "cell_type": "code",
   "execution_count": 19,
   "metadata": {
    "id": "O9_9navvXt_N"
   },
   "outputs": [],
   "source": [
    "# parameter space for hypertunning the svm model\n",
    "C_list = [1.0, 10.0]\n",
    "kernel_list = ['linear', 'poly', 'rbf']\n",
    "gamma_list = ['scale', 'auto'] \n",
    "\n",
    "# initializing the table for records of validation and test accuracies on dataset\n",
    "test_records = pd.DataFrame([], columns=['data','C','kernel','gamma','score'])\n",
    "records = pd.DataFrame([], columns=['data','C','kernel','gamma','score'])\n",
    "indx = 0\n",
    "ind = 0"
   ]
  },
  {
   "cell_type": "code",
   "execution_count": 20,
   "metadata": {
    "id": "qRJz7rLjaJAa"
   },
   "outputs": [],
   "source": [
    "def divide_data(df):\n",
    "  \"\"\"\n",
    "  takes in the input dataframe \n",
    "  divides into train, validation and test sets\n",
    "  and outputs the corresponding X and y columns\n",
    "  \"\"\"\n",
    "  data_train = df[:int(0.7*len(df))]\n",
    "  data_val = df[int(0.7*len(df)):int(0.8*len(df))]\n",
    "  data_test = df[int(0.8*len(df)):]\n",
    "\n",
    "  X_train = data_train.drop(columns=['target'])\n",
    "  X_val = data_val.drop(columns=['target'])\n",
    "  X_test = data_test.drop(columns=['target'])\n",
    "  y_train = data_train['target']\n",
    "  y_val = data_val['target']\n",
    "  y_test = data_test['target']\n",
    "  return X_train, y_train, X_val, y_val, X_test, y_test"
   ]
  },
  {
   "cell_type": "code",
   "execution_count": 21,
   "metadata": {
    "id": "RaOQTAz7idQp"
   },
   "outputs": [],
   "source": [
    "def svm_hypertunning(text, X_data, indx, ind, records, test_records):\n",
    "  \"\"\"\n",
    "  takes in input parameters of \n",
    "  1. the type of dataset used in recording performance entry\n",
    "  2. dataset for training, validation and test metric generation\n",
    "  3. indices for inputing in recorded table for validation scores\n",
    "  4. indices for inputing in recorded table for test scores of best performing on validation model\n",
    "  5. table for storing validation scors\n",
    "  5. table for storing test scores\n",
    "  \"\"\"\n",
    "  # combining the preprocessed features with the corresponding labels\n",
    "  df = pd.DataFrame(X_data)\n",
    "  df['target'] = labels\n",
    "  df = df.sample(frac=1).reset_index(drop=True) # random shuffle data\n",
    "  # dividing into train, validation and test sets\n",
    "  X_train, y_train, X_val, y_val, X_test, y_test = divide_data(df)\n",
    "\n",
    "  # indicator for maintaining the best performing model on validation set\n",
    "  max_score = 0\n",
    "\n",
    "  for i in range(len(C_list)):\n",
    "    for j in range(len(kernel_list)):\n",
    "      for k in range(len(gamma_list)):\n",
    "        # iterating each SVM for each parameter search\n",
    "        model = SVC(C=C_list[i], kernel=kernel_list[j], gamma=gamma_list[k])\n",
    "        # training the model on training dataset\n",
    "        model.fit(X_train, y_train)\n",
    "        # predicting the results on validation dataset\n",
    "        y_pred = model.predict(X_val)\n",
    "        # calculating the accuracy score \n",
    "        score = accuracy_score(y_val, y_pred)\n",
    "\n",
    "        if(score > max_score): \n",
    "          # if it surpasses to be the best scoring model, then saving the model and corresponding parameters used\n",
    "          param = []\n",
    "          model_final = model\n",
    "          param.append(C_list[i]) \n",
    "          param.append(kernel_list[j])\n",
    "          param.append(gamma_list[k])\n",
    "        \n",
    "        # saving the scores along with corresponding parameters in validation table\n",
    "        records.loc[indx,'C'] = C_list[i]\n",
    "        records.loc[indx,'kernel'] = kernel_list[j]\n",
    "        records.loc[indx,'gamma'] = gamma_list[k]\n",
    "        records.loc[indx,'score'] = score\n",
    "        records.loc[indx,'data'] = text\n",
    "        print(C_list[i], kernel_list[j], gamma_list[k])\n",
    "        indx+=1\n",
    "    \n",
    "  # predicting on the test set using the best performing model on validation set\n",
    "  y_pred = model_final.predict(X_test)\n",
    "  score = accuracy_score(y_test, y_pred)\n",
    "\n",
    "  # saving the scores along with corresponding best parameters in test table\n",
    "  test_records.loc[ind,'C'] = param[0]\n",
    "  test_records.loc[ind,'kernel'] = param[1]\n",
    "  test_records.loc[ind,'gamma'] = param[2]\n",
    "  test_records.loc[ind,'score'] = score\n",
    "  test_records.loc[ind,'data'] = text\n",
    "  ind+=1\n",
    "  \n",
    "  # returing the next indices to be filled\n",
    "  return indx, ind"
   ]
  },
  {
   "cell_type": "code",
   "execution_count": 22,
   "metadata": {
    "colab": {
     "base_uri": "https://localhost:8080/"
    },
    "id": "VMsoQK5xg_ZH",
    "outputId": "486cc1f4-86c9-4ad1-a89c-eb1cd0cdeeed"
   },
   "outputs": [
    {
     "name": "stdout",
     "output_type": "stream",
     "text": [
      "1.0 linear scale\n",
      "1.0 linear auto\n",
      "1.0 poly scale\n",
      "1.0 poly auto\n",
      "1.0 rbf scale\n",
      "1.0 rbf auto\n",
      "10.0 linear scale\n",
      "10.0 linear auto\n",
      "10.0 poly scale\n",
      "10.0 poly auto\n",
      "10.0 rbf scale\n",
      "10.0 rbf auto\n",
      "1.0 linear scale\n",
      "1.0 linear auto\n",
      "1.0 poly scale\n",
      "1.0 poly auto\n",
      "1.0 rbf scale\n",
      "1.0 rbf auto\n",
      "10.0 linear scale\n",
      "10.0 linear auto\n",
      "10.0 poly scale\n",
      "10.0 poly auto\n",
      "10.0 rbf scale\n",
      "10.0 rbf auto\n"
     ]
    }
   ],
   "source": [
    "# running for various parameters of SVM on custom PCA DATASET \n",
    "indx, ind = svm_hypertunning(\"custom PCA data\", X_pca, indx, ind, records, test_records)\n",
    "# running for various parameters of SVM on inbuilt PCA DATASET \n",
    "indx, ind = svm_hypertunning(\"inbuilt PCA data\", X_train_pca, indx, ind, records, test_records)"
   ]
  },
  {
   "cell_type": "markdown",
   "metadata": {
    "id": "a-dfiXqzlv2X"
   },
   "source": [
    "table containing all accuracies for validation and test on PCA dataset"
   ]
  },
  {
   "cell_type": "code",
   "execution_count": 23,
   "metadata": {
    "colab": {
     "base_uri": "https://localhost:8080/",
     "height": 1000
    },
    "id": "IFyDVOYc9mdm",
    "outputId": "50d4c3e5-a4be-4498-e9e1-ef66d0aee55b"
   },
   "outputs": [
    {
     "data": {
      "text/html": [
       "<div>\n",
       "<style scoped>\n",
       "    .dataframe tbody tr th:only-of-type {\n",
       "        vertical-align: middle;\n",
       "    }\n",
       "\n",
       "    .dataframe tbody tr th {\n",
       "        vertical-align: top;\n",
       "    }\n",
       "\n",
       "    .dataframe thead th {\n",
       "        text-align: right;\n",
       "    }\n",
       "</style>\n",
       "<table border=\"1\" class=\"dataframe\">\n",
       "  <thead>\n",
       "    <tr style=\"text-align: right;\">\n",
       "      <th></th>\n",
       "      <th>data</th>\n",
       "      <th>C</th>\n",
       "      <th>kernel</th>\n",
       "      <th>gamma</th>\n",
       "      <th>score</th>\n",
       "    </tr>\n",
       "  </thead>\n",
       "  <tbody>\n",
       "    <tr>\n",
       "      <th>0</th>\n",
       "      <td>custom PCA data</td>\n",
       "      <td>1.0</td>\n",
       "      <td>linear</td>\n",
       "      <td>scale</td>\n",
       "      <td>0.858859</td>\n",
       "    </tr>\n",
       "    <tr>\n",
       "      <th>1</th>\n",
       "      <td>custom PCA data</td>\n",
       "      <td>1.0</td>\n",
       "      <td>linear</td>\n",
       "      <td>auto</td>\n",
       "      <td>0.858859</td>\n",
       "    </tr>\n",
       "    <tr>\n",
       "      <th>2</th>\n",
       "      <td>custom PCA data</td>\n",
       "      <td>1.0</td>\n",
       "      <td>poly</td>\n",
       "      <td>scale</td>\n",
       "      <td>0.858859</td>\n",
       "    </tr>\n",
       "    <tr>\n",
       "      <th>3</th>\n",
       "      <td>custom PCA data</td>\n",
       "      <td>1.0</td>\n",
       "      <td>poly</td>\n",
       "      <td>auto</td>\n",
       "      <td>0.858859</td>\n",
       "    </tr>\n",
       "    <tr>\n",
       "      <th>4</th>\n",
       "      <td>custom PCA data</td>\n",
       "      <td>1.0</td>\n",
       "      <td>rbf</td>\n",
       "      <td>scale</td>\n",
       "      <td>0.858859</td>\n",
       "    </tr>\n",
       "    <tr>\n",
       "      <th>5</th>\n",
       "      <td>custom PCA data</td>\n",
       "      <td>1.0</td>\n",
       "      <td>rbf</td>\n",
       "      <td>auto</td>\n",
       "      <td>0.858859</td>\n",
       "    </tr>\n",
       "    <tr>\n",
       "      <th>6</th>\n",
       "      <td>custom PCA data</td>\n",
       "      <td>10.0</td>\n",
       "      <td>linear</td>\n",
       "      <td>scale</td>\n",
       "      <td>0.858859</td>\n",
       "    </tr>\n",
       "    <tr>\n",
       "      <th>7</th>\n",
       "      <td>custom PCA data</td>\n",
       "      <td>10.0</td>\n",
       "      <td>linear</td>\n",
       "      <td>auto</td>\n",
       "      <td>0.858859</td>\n",
       "    </tr>\n",
       "    <tr>\n",
       "      <th>8</th>\n",
       "      <td>custom PCA data</td>\n",
       "      <td>10.0</td>\n",
       "      <td>poly</td>\n",
       "      <td>scale</td>\n",
       "      <td>0.858859</td>\n",
       "    </tr>\n",
       "    <tr>\n",
       "      <th>9</th>\n",
       "      <td>custom PCA data</td>\n",
       "      <td>10.0</td>\n",
       "      <td>poly</td>\n",
       "      <td>auto</td>\n",
       "      <td>0.858859</td>\n",
       "    </tr>\n",
       "    <tr>\n",
       "      <th>10</th>\n",
       "      <td>custom PCA data</td>\n",
       "      <td>10.0</td>\n",
       "      <td>rbf</td>\n",
       "      <td>scale</td>\n",
       "      <td>0.858859</td>\n",
       "    </tr>\n",
       "    <tr>\n",
       "      <th>11</th>\n",
       "      <td>custom PCA data</td>\n",
       "      <td>10.0</td>\n",
       "      <td>rbf</td>\n",
       "      <td>auto</td>\n",
       "      <td>0.855856</td>\n",
       "    </tr>\n",
       "    <tr>\n",
       "      <th>12</th>\n",
       "      <td>inbuilt PCA data</td>\n",
       "      <td>1.0</td>\n",
       "      <td>linear</td>\n",
       "      <td>scale</td>\n",
       "      <td>0.861862</td>\n",
       "    </tr>\n",
       "    <tr>\n",
       "      <th>13</th>\n",
       "      <td>inbuilt PCA data</td>\n",
       "      <td>1.0</td>\n",
       "      <td>linear</td>\n",
       "      <td>auto</td>\n",
       "      <td>0.861862</td>\n",
       "    </tr>\n",
       "    <tr>\n",
       "      <th>14</th>\n",
       "      <td>inbuilt PCA data</td>\n",
       "      <td>1.0</td>\n",
       "      <td>poly</td>\n",
       "      <td>scale</td>\n",
       "      <td>0.861862</td>\n",
       "    </tr>\n",
       "    <tr>\n",
       "      <th>15</th>\n",
       "      <td>inbuilt PCA data</td>\n",
       "      <td>1.0</td>\n",
       "      <td>poly</td>\n",
       "      <td>auto</td>\n",
       "      <td>0.861862</td>\n",
       "    </tr>\n",
       "    <tr>\n",
       "      <th>16</th>\n",
       "      <td>inbuilt PCA data</td>\n",
       "      <td>1.0</td>\n",
       "      <td>rbf</td>\n",
       "      <td>scale</td>\n",
       "      <td>0.861862</td>\n",
       "    </tr>\n",
       "    <tr>\n",
       "      <th>17</th>\n",
       "      <td>inbuilt PCA data</td>\n",
       "      <td>1.0</td>\n",
       "      <td>rbf</td>\n",
       "      <td>auto</td>\n",
       "      <td>0.861862</td>\n",
       "    </tr>\n",
       "    <tr>\n",
       "      <th>18</th>\n",
       "      <td>inbuilt PCA data</td>\n",
       "      <td>10.0</td>\n",
       "      <td>linear</td>\n",
       "      <td>scale</td>\n",
       "      <td>0.861862</td>\n",
       "    </tr>\n",
       "    <tr>\n",
       "      <th>19</th>\n",
       "      <td>inbuilt PCA data</td>\n",
       "      <td>10.0</td>\n",
       "      <td>linear</td>\n",
       "      <td>auto</td>\n",
       "      <td>0.861862</td>\n",
       "    </tr>\n",
       "    <tr>\n",
       "      <th>20</th>\n",
       "      <td>inbuilt PCA data</td>\n",
       "      <td>10.0</td>\n",
       "      <td>poly</td>\n",
       "      <td>scale</td>\n",
       "      <td>0.861862</td>\n",
       "    </tr>\n",
       "    <tr>\n",
       "      <th>21</th>\n",
       "      <td>inbuilt PCA data</td>\n",
       "      <td>10.0</td>\n",
       "      <td>poly</td>\n",
       "      <td>auto</td>\n",
       "      <td>0.861862</td>\n",
       "    </tr>\n",
       "    <tr>\n",
       "      <th>22</th>\n",
       "      <td>inbuilt PCA data</td>\n",
       "      <td>10.0</td>\n",
       "      <td>rbf</td>\n",
       "      <td>scale</td>\n",
       "      <td>0.861862</td>\n",
       "    </tr>\n",
       "    <tr>\n",
       "      <th>23</th>\n",
       "      <td>inbuilt PCA data</td>\n",
       "      <td>10.0</td>\n",
       "      <td>rbf</td>\n",
       "      <td>auto</td>\n",
       "      <td>0.855856</td>\n",
       "    </tr>\n",
       "  </tbody>\n",
       "</table>\n",
       "</div>"
      ],
      "text/plain": [
       "                data     C  kernel  gamma     score\n",
       "0    custom PCA data   1.0  linear  scale  0.858859\n",
       "1    custom PCA data   1.0  linear   auto  0.858859\n",
       "2    custom PCA data   1.0    poly  scale  0.858859\n",
       "3    custom PCA data   1.0    poly   auto  0.858859\n",
       "4    custom PCA data   1.0     rbf  scale  0.858859\n",
       "5    custom PCA data   1.0     rbf   auto  0.858859\n",
       "6    custom PCA data  10.0  linear  scale  0.858859\n",
       "7    custom PCA data  10.0  linear   auto  0.858859\n",
       "8    custom PCA data  10.0    poly  scale  0.858859\n",
       "9    custom PCA data  10.0    poly   auto  0.858859\n",
       "10   custom PCA data  10.0     rbf  scale  0.858859\n",
       "11   custom PCA data  10.0     rbf   auto  0.855856\n",
       "12  inbuilt PCA data   1.0  linear  scale  0.861862\n",
       "13  inbuilt PCA data   1.0  linear   auto  0.861862\n",
       "14  inbuilt PCA data   1.0    poly  scale  0.861862\n",
       "15  inbuilt PCA data   1.0    poly   auto  0.861862\n",
       "16  inbuilt PCA data   1.0     rbf  scale  0.861862\n",
       "17  inbuilt PCA data   1.0     rbf   auto  0.861862\n",
       "18  inbuilt PCA data  10.0  linear  scale  0.861862\n",
       "19  inbuilt PCA data  10.0  linear   auto  0.861862\n",
       "20  inbuilt PCA data  10.0    poly  scale  0.861862\n",
       "21  inbuilt PCA data  10.0    poly   auto  0.861862\n",
       "22  inbuilt PCA data  10.0     rbf  scale  0.861862\n",
       "23  inbuilt PCA data  10.0     rbf   auto  0.855856"
      ]
     },
     "execution_count": 23,
     "metadata": {},
     "output_type": "execute_result"
    }
   ],
   "source": [
    "records"
   ]
  },
  {
   "cell_type": "code",
   "execution_count": 24,
   "metadata": {
    "colab": {
     "base_uri": "https://localhost:8080/",
     "height": 112
    },
    "id": "aUjVu4qP9nGF",
    "outputId": "86014e6f-b62f-4e66-ad60-634b008d075c"
   },
   "outputs": [
    {
     "data": {
      "text/html": [
       "<div>\n",
       "<style scoped>\n",
       "    .dataframe tbody tr th:only-of-type {\n",
       "        vertical-align: middle;\n",
       "    }\n",
       "\n",
       "    .dataframe tbody tr th {\n",
       "        vertical-align: top;\n",
       "    }\n",
       "\n",
       "    .dataframe thead th {\n",
       "        text-align: right;\n",
       "    }\n",
       "</style>\n",
       "<table border=\"1\" class=\"dataframe\">\n",
       "  <thead>\n",
       "    <tr style=\"text-align: right;\">\n",
       "      <th></th>\n",
       "      <th>data</th>\n",
       "      <th>C</th>\n",
       "      <th>kernel</th>\n",
       "      <th>gamma</th>\n",
       "      <th>score</th>\n",
       "    </tr>\n",
       "  </thead>\n",
       "  <tbody>\n",
       "    <tr>\n",
       "      <th>0</th>\n",
       "      <td>custom PCA data</td>\n",
       "      <td>10.0</td>\n",
       "      <td>rbf</td>\n",
       "      <td>auto</td>\n",
       "      <td>0.856072</td>\n",
       "    </tr>\n",
       "    <tr>\n",
       "      <th>1</th>\n",
       "      <td>inbuilt PCA data</td>\n",
       "      <td>10.0</td>\n",
       "      <td>rbf</td>\n",
       "      <td>auto</td>\n",
       "      <td>0.838081</td>\n",
       "    </tr>\n",
       "  </tbody>\n",
       "</table>\n",
       "</div>"
      ],
      "text/plain": [
       "               data     C kernel gamma     score\n",
       "0   custom PCA data  10.0    rbf  auto  0.856072\n",
       "1  inbuilt PCA data  10.0    rbf  auto  0.838081"
      ]
     },
     "execution_count": 24,
     "metadata": {},
     "output_type": "execute_result"
    }
   ],
   "source": [
    "test_records"
   ]
  },
  {
   "cell_type": "markdown",
   "metadata": {
    "id": "YTc9tuluMvTX"
   },
   "source": [
    "# **Linear Discriminant Analysis**"
   ]
  },
  {
   "cell_type": "markdown",
   "metadata": {
    "id": "f3jREPz2cez3"
   },
   "source": [
    "1.   Here, X is the data matrix with shape (number_of_samples, number_of_features) and labels is the array of class labels with shape (number_of_samples,).\n",
    "\n",
    "2.    We Scale the data before applying LDA so that no feature dominates. When dealing with data that has features with different scales, it's often important to scale the data first. This is because data that has larger values may sway the data even with relatively little variability\n",
    "\n",
    "3.    We compute the class means, within-class scatter matrix, and between-class scatter matrix using NumPy's np.mean(), np.dot(), np.outer(), np.cov(), and np.outer() functions, respectively.\n",
    "\n",
    "4.  We then compute the eigenvectors and eigenvalues of the generalized eigenvalue problem using NumPy's np.linalg.eig() function. We sort the eigenvectors in descending order of eigenvalues and project the data onto the first LDA component.\n",
    "\n",
    "5.  Finally, we plot the reduced dimensional data using Matplotlib's plt.scatter() function, with colors assigned based on the class labels using a dictionary.\n",
    "\n",
    "\n",
    "\n",
    "\n",
    "  \n",
    "\n"
   ]
  },
  {
   "cell_type": "code",
   "execution_count": 25,
   "metadata": {
    "colab": {
     "base_uri": "https://localhost:8080/"
    },
    "id": "JzDg-pS_NhHR",
    "outputId": "9b795123-5742-4a41-928b-987bcdcf3b59"
   },
   "outputs": [
    {
     "data": {
      "text/plain": [
       "(3333, 16)"
      ]
     },
     "execution_count": 25,
     "metadata": {},
     "output_type": "execute_result"
    }
   ],
   "source": [
    "X_std.shape"
   ]
  },
  {
   "cell_type": "code",
   "execution_count": 26,
   "metadata": {
    "id": "m57lrrEUYs-k"
   },
   "outputs": [],
   "source": [
    "class_means = []\n",
    "for c in np.unique(labels):\n",
    "    X_c = X_std[labels == c]\n",
    "    class_means.append(np.mean(X_c, axis=0))"
   ]
  },
  {
   "cell_type": "code",
   "execution_count": 27,
   "metadata": {
    "colab": {
     "base_uri": "https://localhost:8080/"
    },
    "id": "w6CTFWllnNKd",
    "outputId": "da9cfe80-93d4-460f-bb55-21f9ef9cd1bb"
   },
   "outputs": [
    {
     "name": "stdout",
     "output_type": "stream",
     "text": [
      "(16, 16)\n"
     ]
    }
   ],
   "source": [
    "# Compute the Total within-class scatter matrix S_w = S1 + S2\n",
    "S_w = np.zeros((X_std.shape[1], X_std.shape[1]))\n",
    "for c in np.unique(labels): # Iterating over the classes\n",
    "    X_c = X_std[labels == c]\n",
    "    mean_c = class_means[int(c)] #Class Mean\n",
    "    X_c_centered = X_c - mean_c\n",
    "    S_w += np.dot(X_c_centered.T, X_c_centered) # Calculating Covariance\n",
    "print(S_w.shape)"
   ]
  },
  {
   "cell_type": "code",
   "execution_count": 28,
   "metadata": {
    "colab": {
     "base_uri": "https://localhost:8080/"
    },
    "id": "4OmXQCwKaDN3",
    "outputId": "24f59b0e-deb1-4204-a7d4-952309494b91"
   },
   "outputs": [
    {
     "name": "stdout",
     "output_type": "stream",
     "text": [
      "(16, 16)\n"
     ]
    }
   ],
   "source": [
    "# Compute the between-class scatter matrix\n",
    "overall_mean = np.mean(X_std, axis=0)\n",
    "S_b = np.zeros((X_std.shape[1], X_std.shape[1]))\n",
    "for c, mean in zip(np.unique(labels), class_means):\n",
    "    n_c = X_std[labels == c].shape[0]\n",
    "    S_b += n_c * np.outer((mean - overall_mean), (mean - overall_mean))\n",
    "print(S_b.shape)"
   ]
  },
  {
   "cell_type": "code",
   "execution_count": 29,
   "metadata": {
    "colab": {
     "base_uri": "https://localhost:8080/"
    },
    "id": "w6qATK3Vaf8j",
    "outputId": "68a9c6f2-531e-4fa2-ed8f-dcc7d550af06"
   },
   "outputs": [
    {
     "name": "stdout",
     "output_type": "stream",
     "text": [
      "0        74.188739\n",
      "1        61.880760\n",
      "2        48.794725\n",
      "3         9.815544\n",
      "4        52.334199\n",
      "           ...    \n",
      "3328     67.049610\n",
      "3329     59.378043\n",
      "3330    134.582768\n",
      "3331     75.569186\n",
      "3332    112.563778\n",
      "Length: 3333, dtype: float64\n"
     ]
    },
    {
     "name": "stderr",
     "output_type": "stream",
     "text": [
      "C:\\Users\\user\\AppData\\Local\\Programs\\Python\\Python311\\Lib\\site-packages\\pandas\\core\\dtypes\\astype.py:170: ComplexWarning: Casting complex values to real discards the imaginary part\n",
      "  return arr.astype(dtype, copy=True)\n"
     ]
    }
   ],
   "source": [
    "# Compute the eigenvalues and eigenvectors of the generalized eigenvalue problem\n",
    "eigenvalues, eigenvectors = np.linalg.eig(np.linalg.inv(S_w) @ S_b)\n",
    "\n",
    "# Sort the eigenvalues and eigenvectors in descending order\n",
    "idx = eigenvalues.argsort()[::-1]\n",
    "eigenvalues = eigenvalues[idx]\n",
    "eigenvectors = eigenvectors[:, idx]\n",
    "\n",
    "# Project the data onto the first LDA component\n",
    "X_lda = X @ eigenvectors[:, 0]\n",
    "\n",
    "X_lda = X_lda.astype(float)\n",
    "\n",
    "print(X_lda)"
   ]
  },
  {
   "cell_type": "code",
   "execution_count": 30,
   "metadata": {
    "colab": {
     "base_uri": "https://localhost:8080/",
     "height": 279
    },
    "id": "meMJTyNdbVNV",
    "outputId": "bd57035c-2b66-44cc-f8a0-708efe205691"
   },
   "outputs": [
    {
     "data": {
      "image/png": "[encoded data removed]",
      "text/plain": [
       "<Figure size 640x480 with 1 Axes>"
      ]
     },
     "metadata": {},
     "output_type": "display_data"
    }
   ],
   "source": [
    "# Plot the reduced dimensional data\n",
    "colors = {0: 'orange', 1: 'blue'}\n",
    "for i in range(X_lda.shape[0]):\n",
    "    plt.scatter(np.real(X_lda[i]), 0, color=colors[labels[i]])\n",
    "plt.xlabel('LDA Component 1')\n",
    "plt.yticks([])\n",
    "plt.show()"
   ]
  },
  {
   "cell_type": "markdown",
   "metadata": {
    "id": "j6aszYQYs3-x"
   },
   "source": [
    "# **Comparison of my LDA Plot with the inbuilt LDA Available in sklearn**"
   ]
  },
  {
   "cell_type": "code",
   "execution_count": 31,
   "metadata": {
    "colab": {
     "base_uri": "https://localhost:8080/"
    },
    "id": "udep5MVUcT85",
    "outputId": "d089b442-7a4a-4851-b4b3-9ca853a2e11e"
   },
   "outputs": [
    {
     "name": "stdout",
     "output_type": "stream",
     "text": [
      "[[ 0.58982784]\n",
      " [-0.30186101]\n",
      " [-0.20733456]\n",
      " ...\n",
      " [ 1.06168434]\n",
      " [-0.32316976]\n",
      " [ 0.29638775]]\n"
     ]
    }
   ],
   "source": [
    "from sklearn.discriminant_analysis import LinearDiscriminantAnalysis\n",
    "\n",
    "# Instantiate LDA object with 1 component\n",
    "lda = LinearDiscriminantAnalysis(n_components=1)\n",
    "\n",
    "# Fit and transform the training data\n",
    "X_train_lda = lda.fit_transform(X_std, labels)\n",
    "print(X_train_lda)\n",
    "\n",
    "# Transform the test data\n",
    "X_test_lda = lda.transform(X_std)"
   ]
  },
  {
   "cell_type": "code",
   "execution_count": 32,
   "metadata": {
    "colab": {
     "base_uri": "https://localhost:8080/",
     "height": 279
    },
    "id": "SrNbh2-lcXyO",
    "outputId": "54db45ff-63cb-4528-c93f-9a264e8e87e9"
   },
   "outputs": [
    {
     "data": {
      "image/png": "[encoded data removed]",
      "text/plain": [
       "<Figure size 640x480 with 1 Axes>"
      ]
     },
     "metadata": {},
     "output_type": "display_data"
    }
   ],
   "source": [
    "import matplotlib.pyplot as plt\n",
    "\n",
    "# Set up a dictionary to map class labels to colors\n",
    "colors = {0: 'orange', 1: 'blue'}\n",
    "\n",
    "# Plot the reduced dimensional data\n",
    "for i in range(len(X_train_lda)):\n",
    "    plt.scatter(X_train_lda[i], 0, color=colors[labels[i]])\n",
    "    \n",
    "plt.xlabel('LDA Component 1')\n",
    "plt.yticks([])\n",
    "plt.show()"
   ]
  },
  {
   "cell_type": "markdown",
   "metadata": {
    "id": "uF50IK7UtcPx"
   },
   "source": [
    "**We Observe that the Values Obtained from Custom Function and those of the inbuilt function only differ by a constant scaling of 48.8066, .i.e., Custom Values = (Inbuilt Values)/48.8066. We know that Linear Discriminant Analysis (LDA) finds it’s coefficients using the variation between the classes, so the scaling doesn’t matter.**"
   ]
  },
  {
   "cell_type": "markdown",
   "metadata": {
    "id": "m_q2b73HiG71"
   },
   "source": [
    "# **SVM**"
   ]
  },
  {
   "cell_type": "code",
   "execution_count": 33,
   "metadata": {
    "id": "3ypDqBj4A_uT"
   },
   "outputs": [],
   "source": [
    "# parameter space for hypertunning the svm model\n",
    "C_list = [1.0, 10.0]\n",
    "kernel_list = ['linear', 'poly', 'rbf']\n",
    "gamma_list = ['scale']#, 'auto'] \n",
    "# by including auto parameter the code was taking a long time to run thus is commented out \n",
    "\n",
    "# initializing the table for records of validation and test accuracies on dataset\n",
    "test_records = pd.DataFrame([], columns=['data','C','kernel','gamma','score'])\n",
    "records = pd.DataFrame([], columns=['data','C','kernel','gamma','score'])\n",
    "indx = 0\n",
    "ind = 0"
   ]
  },
  {
   "cell_type": "code",
   "execution_count": 34,
   "metadata": {
    "colab": {
     "base_uri": "https://localhost:8080/"
    },
    "id": "YAyE_lk2j5My",
    "outputId": "d3b2e9c7-ae7f-403d-cf3a-7d60d6048df1"
   },
   "outputs": [
    {
     "name": "stdout",
     "output_type": "stream",
     "text": [
      "1.0 linear scale\n",
      "1.0 poly scale\n",
      "1.0 rbf scale\n",
      "10.0 linear scale\n",
      "10.0 poly scale\n",
      "10.0 rbf scale\n"
     ]
    }
   ],
   "source": [
    "# running the various svm on the custom LDA DATASET \n",
    "indx, ind = svm_hypertunning(\"custom LDA data\", X_lda, indx, ind, records, test_records)"
   ]
  },
  {
   "cell_type": "code",
   "execution_count": 35,
   "metadata": {
    "colab": {
     "base_uri": "https://localhost:8080/"
    },
    "id": "nTYqSpZtI3eU",
    "outputId": "36c0b68b-2a53-4556-f6c4-9f0d087663ed"
   },
   "outputs": [
    {
     "name": "stdout",
     "output_type": "stream",
     "text": [
      "1.0 linear scale\n",
      "1.0 poly scale\n",
      "1.0 rbf scale\n",
      "10.0 linear scale\n",
      "10.0 poly scale\n",
      "10.0 rbf scale\n"
     ]
    }
   ],
   "source": [
    "# running the various svm on the inbuilt LDA DATASET (sklearn)\n",
    "indx, ind = svm_hypertunning(\"inbuilt LDA data\", X_train_lda, indx, ind, records, test_records)"
   ]
  },
  {
   "cell_type": "markdown",
   "metadata": {
    "id": "BRuG0Uo5lVN2"
   },
   "source": [
    "table containing all accuracies for validation and test dataset"
   ]
  },
  {
   "cell_type": "code",
   "execution_count": 36,
   "metadata": {
    "colab": {
     "base_uri": "https://localhost:8080/",
     "height": 425
    },
    "id": "1fRFGWWIA2Cc",
    "outputId": "bd0805ec-e885-45c7-e4dc-aef4c1613d00"
   },
   "outputs": [
    {
     "data": {
      "text/html": [
       "<div>\n",
       "<style scoped>\n",
       "    .dataframe tbody tr th:only-of-type {\n",
       "        vertical-align: middle;\n",
       "    }\n",
       "\n",
       "    .dataframe tbody tr th {\n",
       "        vertical-align: top;\n",
       "    }\n",
       "\n",
       "    .dataframe thead th {\n",
       "        text-align: right;\n",
       "    }\n",
       "</style>\n",
       "<table border=\"1\" class=\"dataframe\">\n",
       "  <thead>\n",
       "    <tr style=\"text-align: right;\">\n",
       "      <th></th>\n",
       "      <th>data</th>\n",
       "      <th>C</th>\n",
       "      <th>kernel</th>\n",
       "      <th>gamma</th>\n",
       "      <th>score</th>\n",
       "    </tr>\n",
       "  </thead>\n",
       "  <tbody>\n",
       "    <tr>\n",
       "      <th>0</th>\n",
       "      <td>custom LDA data</td>\n",
       "      <td>1.0</td>\n",
       "      <td>linear</td>\n",
       "      <td>scale</td>\n",
       "      <td>0.831832</td>\n",
       "    </tr>\n",
       "    <tr>\n",
       "      <th>1</th>\n",
       "      <td>custom LDA data</td>\n",
       "      <td>1.0</td>\n",
       "      <td>poly</td>\n",
       "      <td>scale</td>\n",
       "      <td>0.831832</td>\n",
       "    </tr>\n",
       "    <tr>\n",
       "      <th>2</th>\n",
       "      <td>custom LDA data</td>\n",
       "      <td>1.0</td>\n",
       "      <td>rbf</td>\n",
       "      <td>scale</td>\n",
       "      <td>0.831832</td>\n",
       "    </tr>\n",
       "    <tr>\n",
       "      <th>3</th>\n",
       "      <td>custom LDA data</td>\n",
       "      <td>10.0</td>\n",
       "      <td>linear</td>\n",
       "      <td>scale</td>\n",
       "      <td>0.831832</td>\n",
       "    </tr>\n",
       "    <tr>\n",
       "      <th>4</th>\n",
       "      <td>custom LDA data</td>\n",
       "      <td>10.0</td>\n",
       "      <td>poly</td>\n",
       "      <td>scale</td>\n",
       "      <td>0.831832</td>\n",
       "    </tr>\n",
       "    <tr>\n",
       "      <th>5</th>\n",
       "      <td>custom LDA data</td>\n",
       "      <td>10.0</td>\n",
       "      <td>rbf</td>\n",
       "      <td>scale</td>\n",
       "      <td>0.831832</td>\n",
       "    </tr>\n",
       "    <tr>\n",
       "      <th>6</th>\n",
       "      <td>inbuilt LDA data</td>\n",
       "      <td>1.0</td>\n",
       "      <td>linear</td>\n",
       "      <td>scale</td>\n",
       "      <td>0.855856</td>\n",
       "    </tr>\n",
       "    <tr>\n",
       "      <th>7</th>\n",
       "      <td>inbuilt LDA data</td>\n",
       "      <td>1.0</td>\n",
       "      <td>poly</td>\n",
       "      <td>scale</td>\n",
       "      <td>0.855856</td>\n",
       "    </tr>\n",
       "    <tr>\n",
       "      <th>8</th>\n",
       "      <td>inbuilt LDA data</td>\n",
       "      <td>1.0</td>\n",
       "      <td>rbf</td>\n",
       "      <td>scale</td>\n",
       "      <td>0.855856</td>\n",
       "    </tr>\n",
       "    <tr>\n",
       "      <th>9</th>\n",
       "      <td>inbuilt LDA data</td>\n",
       "      <td>10.0</td>\n",
       "      <td>linear</td>\n",
       "      <td>scale</td>\n",
       "      <td>0.855856</td>\n",
       "    </tr>\n",
       "    <tr>\n",
       "      <th>10</th>\n",
       "      <td>inbuilt LDA data</td>\n",
       "      <td>10.0</td>\n",
       "      <td>poly</td>\n",
       "      <td>scale</td>\n",
       "      <td>0.855856</td>\n",
       "    </tr>\n",
       "    <tr>\n",
       "      <th>11</th>\n",
       "      <td>inbuilt LDA data</td>\n",
       "      <td>10.0</td>\n",
       "      <td>rbf</td>\n",
       "      <td>scale</td>\n",
       "      <td>0.861862</td>\n",
       "    </tr>\n",
       "  </tbody>\n",
       "</table>\n",
       "</div>"
      ],
      "text/plain": [
       "                data     C  kernel  gamma     score\n",
       "0    custom LDA data   1.0  linear  scale  0.831832\n",
       "1    custom LDA data   1.0    poly  scale  0.831832\n",
       "2    custom LDA data   1.0     rbf  scale  0.831832\n",
       "3    custom LDA data  10.0  linear  scale  0.831832\n",
       "4    custom LDA data  10.0    poly  scale  0.831832\n",
       "5    custom LDA data  10.0     rbf  scale  0.831832\n",
       "6   inbuilt LDA data   1.0  linear  scale  0.855856\n",
       "7   inbuilt LDA data   1.0    poly  scale  0.855856\n",
       "8   inbuilt LDA data   1.0     rbf  scale  0.855856\n",
       "9   inbuilt LDA data  10.0  linear  scale  0.855856\n",
       "10  inbuilt LDA data  10.0    poly  scale  0.855856\n",
       "11  inbuilt LDA data  10.0     rbf  scale  0.861862"
      ]
     },
     "execution_count": 36,
     "metadata": {},
     "output_type": "execute_result"
    }
   ],
   "source": [
    "records"
   ]
  },
  {
   "cell_type": "code",
   "execution_count": 37,
   "metadata": {
    "colab": {
     "base_uri": "https://localhost:8080/",
     "height": 112
    },
    "id": "eNr_MfPVA1he",
    "outputId": "1ea2678a-cb02-4b2d-9412-c941b9cf99b3"
   },
   "outputs": [
    {
     "data": {
      "text/html": [
       "<div>\n",
       "<style scoped>\n",
       "    .dataframe tbody tr th:only-of-type {\n",
       "        vertical-align: middle;\n",
       "    }\n",
       "\n",
       "    .dataframe tbody tr th {\n",
       "        vertical-align: top;\n",
       "    }\n",
       "\n",
       "    .dataframe thead th {\n",
       "        text-align: right;\n",
       "    }\n",
       "</style>\n",
       "<table border=\"1\" class=\"dataframe\">\n",
       "  <thead>\n",
       "    <tr style=\"text-align: right;\">\n",
       "      <th></th>\n",
       "      <th>data</th>\n",
       "      <th>C</th>\n",
       "      <th>kernel</th>\n",
       "      <th>gamma</th>\n",
       "      <th>score</th>\n",
       "    </tr>\n",
       "  </thead>\n",
       "  <tbody>\n",
       "    <tr>\n",
       "      <th>0</th>\n",
       "      <td>custom LDA data</td>\n",
       "      <td>10.0</td>\n",
       "      <td>rbf</td>\n",
       "      <td>scale</td>\n",
       "      <td>0.863568</td>\n",
       "    </tr>\n",
       "    <tr>\n",
       "      <th>1</th>\n",
       "      <td>inbuilt LDA data</td>\n",
       "      <td>10.0</td>\n",
       "      <td>rbf</td>\n",
       "      <td>scale</td>\n",
       "      <td>0.844078</td>\n",
       "    </tr>\n",
       "  </tbody>\n",
       "</table>\n",
       "</div>"
      ],
      "text/plain": [
       "               data     C kernel  gamma     score\n",
       "0   custom LDA data  10.0    rbf  scale  0.863568\n",
       "1  inbuilt LDA data  10.0    rbf  scale  0.844078"
      ]
     },
     "execution_count": 37,
     "metadata": {},
     "output_type": "execute_result"
    }
   ],
   "source": [
    "test_records"
   ]
  },
  {
   "cell_type": "code",
   "execution_count": null,
   "metadata": {
    "id": "Ni93gga5A7Yw"
   },
   "outputs": [],
   "source": []
  }
 ],
 "metadata": {
  "accelerator": "GPU",
  "colab": {
   "collapsed_sections": [
    "LrCB-DyKwV0o",
    "V5W1wTbDFfpw",
    "GgZvTT2tRt9y",
    "4-JjjaAlWJAG",
    "YTc9tuluMvTX",
    "j6aszYQYs3-x",
    "m_q2b73HiG71"
   ],
   "provenance": []
  },
  "gpuClass": "standard",
  "kernelspec": {
   "display_name": "Python 3 (ipykernel)",
   "language": "python",
   "name": "python3"
  },
  "language_info": {
   "codemirror_mode": {
    "name": "ipython",
    "version": 3
   },
   "file_extension": ".py",
   "mimetype": "text/x-python",
   "name": "python",
   "nbconvert_exporter": "python",
   "pygments_lexer": "ipython3",
   "version": "3.11.1"
  }
 },
 "nbformat": 4,
 "nbformat_minor": 4
}
