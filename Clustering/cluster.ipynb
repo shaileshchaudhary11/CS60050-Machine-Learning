{
 "cells": [
  {
   "cell_type": "markdown",
   "id": "48159303-db10-46c3-a6cf-4da35121603c",
   "metadata": {
    "id": "48159303-db10-46c3-a6cf-4da35121603c"
   },
   "source": [
    "## Roll No. : 22CS60R37\n",
    "## NAME : Shailesh Chaudhary\n",
    "## Project Code: APHC-AS\n",
    "## Project Tiltle : Airline Passenger Segmentation using Single Linkage Agglomerative (Bottom-Up) Clustering Technique\n"
   ]
  },
  {
   "cell_type": "markdown",
   "id": "505164f9-15f3-4f05-aa1d-96014dbc9f76",
   "metadata": {
    "id": "505164f9-15f3-4f05-aa1d-96014dbc9f76"
   },
   "source": [
    "## Importing required Libraries "
   ]
  },
  {
   "cell_type": "code",
   "execution_count": 1,
   "id": "7c5d0bbc-d5d2-41b4-92fa-5bb5dd20008b",
   "metadata": {
    "id": "7c5d0bbc-d5d2-41b4-92fa-5bb5dd20008b"
   },
   "outputs": [],
   "source": [
    "import numpy as np\n",
    "import pandas as pd\n",
    "import matplotlib.pyplot as plt\n",
    "import seaborn as sns\n",
    "import math\n",
    "import graphviz\n",
    "from sklearn.metrics import classification_report\n",
    "from sklearn.metrics import silhouette_score\n",
    "import csv\n"
   ]
  },
  {
   "cell_type": "markdown",
   "id": "40f5f5a6-39e7-43da-bca9-f97569ff7ee0",
   "metadata": {
    "id": "40f5f5a6-39e7-43da-bca9-f97569ff7ee0"
   },
   "source": [
    "## Loading Dataset"
   ]
  },
  {
   "cell_type": "code",
   "execution_count": 2,
   "id": "ad4a35ca-2a1c-4fe9-a842-79d1d401a7b8",
   "metadata": {
    "colab": {
     "base_uri": "https://localhost:8080/",
     "height": 438
    },
    "id": "ad4a35ca-2a1c-4fe9-a842-79d1d401a7b8",
    "outputId": "7484c2f4-dd47-4a6a-9632-9b388402320f"
   },
   "outputs": [
    {
     "data": {
      "text/html": [
       "<div>\n",
       "<style scoped>\n",
       "    .dataframe tbody tr th:only-of-type {\n",
       "        vertical-align: middle;\n",
       "    }\n",
       "\n",
       "    .dataframe tbody tr th {\n",
       "        vertical-align: top;\n",
       "    }\n",
       "\n",
       "    .dataframe thead th {\n",
       "        text-align: right;\n",
       "    }\n",
       "</style>\n",
       "<table border=\"1\" class=\"dataframe\">\n",
       "  <thead>\n",
       "    <tr style=\"text-align: right;\">\n",
       "      <th></th>\n",
       "      <th>Unnamed: 0</th>\n",
       "      <th>id</th>\n",
       "      <th>Gender</th>\n",
       "      <th>Customer Type</th>\n",
       "      <th>Age</th>\n",
       "      <th>Type of Travel</th>\n",
       "      <th>Class</th>\n",
       "      <th>Flight Distance</th>\n",
       "      <th>Inflight wifi service</th>\n",
       "      <th>Departure/Arrival time convenient</th>\n",
       "      <th>...</th>\n",
       "      <th>Seat comfort</th>\n",
       "      <th>Inflight entertainment</th>\n",
       "      <th>On-board service</th>\n",
       "      <th>Leg room service</th>\n",
       "      <th>Baggage handling</th>\n",
       "      <th>Checkin service</th>\n",
       "      <th>Inflight service</th>\n",
       "      <th>Cleanliness</th>\n",
       "      <th>Departure Delay in Minutes</th>\n",
       "      <th>Arrival Delay in Minutes</th>\n",
       "    </tr>\n",
       "  </thead>\n",
       "  <tbody>\n",
       "    <tr>\n",
       "      <th>0</th>\n",
       "      <td>0</td>\n",
       "      <td>19556</td>\n",
       "      <td>Female</td>\n",
       "      <td>Loyal Customer</td>\n",
       "      <td>52</td>\n",
       "      <td>Business travel</td>\n",
       "      <td>Eco</td>\n",
       "      <td>160</td>\n",
       "      <td>5</td>\n",
       "      <td>4</td>\n",
       "      <td>...</td>\n",
       "      <td>3</td>\n",
       "      <td>5</td>\n",
       "      <td>5</td>\n",
       "      <td>5</td>\n",
       "      <td>5</td>\n",
       "      <td>2</td>\n",
       "      <td>5</td>\n",
       "      <td>5</td>\n",
       "      <td>50</td>\n",
       "      <td>44.0</td>\n",
       "    </tr>\n",
       "    <tr>\n",
       "      <th>1</th>\n",
       "      <td>1</td>\n",
       "      <td>90035</td>\n",
       "      <td>Female</td>\n",
       "      <td>Loyal Customer</td>\n",
       "      <td>36</td>\n",
       "      <td>Business travel</td>\n",
       "      <td>Business</td>\n",
       "      <td>2863</td>\n",
       "      <td>1</td>\n",
       "      <td>1</td>\n",
       "      <td>...</td>\n",
       "      <td>5</td>\n",
       "      <td>4</td>\n",
       "      <td>4</td>\n",
       "      <td>4</td>\n",
       "      <td>4</td>\n",
       "      <td>3</td>\n",
       "      <td>4</td>\n",
       "      <td>5</td>\n",
       "      <td>0</td>\n",
       "      <td>0.0</td>\n",
       "    </tr>\n",
       "    <tr>\n",
       "      <th>2</th>\n",
       "      <td>2</td>\n",
       "      <td>12360</td>\n",
       "      <td>Male</td>\n",
       "      <td>disloyal Customer</td>\n",
       "      <td>20</td>\n",
       "      <td>Business travel</td>\n",
       "      <td>Eco</td>\n",
       "      <td>192</td>\n",
       "      <td>2</td>\n",
       "      <td>0</td>\n",
       "      <td>...</td>\n",
       "      <td>2</td>\n",
       "      <td>2</td>\n",
       "      <td>4</td>\n",
       "      <td>1</td>\n",
       "      <td>3</td>\n",
       "      <td>2</td>\n",
       "      <td>2</td>\n",
       "      <td>2</td>\n",
       "      <td>0</td>\n",
       "      <td>0.0</td>\n",
       "    </tr>\n",
       "    <tr>\n",
       "      <th>3</th>\n",
       "      <td>3</td>\n",
       "      <td>77959</td>\n",
       "      <td>Male</td>\n",
       "      <td>Loyal Customer</td>\n",
       "      <td>44</td>\n",
       "      <td>Business travel</td>\n",
       "      <td>Business</td>\n",
       "      <td>3377</td>\n",
       "      <td>0</td>\n",
       "      <td>0</td>\n",
       "      <td>...</td>\n",
       "      <td>4</td>\n",
       "      <td>1</td>\n",
       "      <td>1</td>\n",
       "      <td>1</td>\n",
       "      <td>1</td>\n",
       "      <td>3</td>\n",
       "      <td>1</td>\n",
       "      <td>4</td>\n",
       "      <td>0</td>\n",
       "      <td>6.0</td>\n",
       "    </tr>\n",
       "    <tr>\n",
       "      <th>4</th>\n",
       "      <td>4</td>\n",
       "      <td>36875</td>\n",
       "      <td>Female</td>\n",
       "      <td>Loyal Customer</td>\n",
       "      <td>49</td>\n",
       "      <td>Business travel</td>\n",
       "      <td>Eco</td>\n",
       "      <td>1182</td>\n",
       "      <td>2</td>\n",
       "      <td>3</td>\n",
       "      <td>...</td>\n",
       "      <td>2</td>\n",
       "      <td>2</td>\n",
       "      <td>2</td>\n",
       "      <td>2</td>\n",
       "      <td>2</td>\n",
       "      <td>4</td>\n",
       "      <td>2</td>\n",
       "      <td>4</td>\n",
       "      <td>0</td>\n",
       "      <td>20.0</td>\n",
       "    </tr>\n",
       "  </tbody>\n",
       "</table>\n",
       "<p>5 rows × 24 columns</p>\n",
       "</div>"
      ],
      "text/plain": [
       "   Unnamed: 0     id  Gender      Customer Type  Age   Type of Travel  \\\n",
       "0           0  19556  Female     Loyal Customer   52  Business travel   \n",
       "1           1  90035  Female     Loyal Customer   36  Business travel   \n",
       "2           2  12360    Male  disloyal Customer   20  Business travel   \n",
       "3           3  77959    Male     Loyal Customer   44  Business travel   \n",
       "4           4  36875  Female     Loyal Customer   49  Business travel   \n",
       "\n",
       "      Class  Flight Distance  Inflight wifi service  \\\n",
       "0       Eco              160                      5   \n",
       "1  Business             2863                      1   \n",
       "2       Eco              192                      2   \n",
       "3  Business             3377                      0   \n",
       "4       Eco             1182                      2   \n",
       "\n",
       "   Departure/Arrival time convenient  ...  Seat comfort  \\\n",
       "0                                  4  ...             3   \n",
       "1                                  1  ...             5   \n",
       "2                                  0  ...             2   \n",
       "3                                  0  ...             4   \n",
       "4                                  3  ...             2   \n",
       "\n",
       "   Inflight entertainment  On-board service  Leg room service  \\\n",
       "0                       5                 5                 5   \n",
       "1                       4                 4                 4   \n",
       "2                       2                 4                 1   \n",
       "3                       1                 1                 1   \n",
       "4                       2                 2                 2   \n",
       "\n",
       "   Baggage handling  Checkin service  Inflight service  Cleanliness  \\\n",
       "0                 5                2                 5            5   \n",
       "1                 4                3                 4            5   \n",
       "2                 3                2                 2            2   \n",
       "3                 1                3                 1            4   \n",
       "4                 2                4                 2            4   \n",
       "\n",
       "   Departure Delay in Minutes  Arrival Delay in Minutes  \n",
       "0                          50                      44.0  \n",
       "1                           0                       0.0  \n",
       "2                           0                       0.0  \n",
       "3                           0                       6.0  \n",
       "4                           0                      20.0  \n",
       "\n",
       "[5 rows x 24 columns]"
      ]
     },
     "execution_count": 2,
     "metadata": {},
     "output_type": "execute_result"
    }
   ],
   "source": [
    "# Loading the dataset\n",
    "df = pd.read_csv('airpass.csv')\n",
    "df.head()"
   ]
  },
  {
   "cell_type": "markdown",
   "id": "f481259d-7bb4-4e79-b57d-852d18719c71",
   "metadata": {
    "id": "f481259d-7bb4-4e79-b57d-852d18719c71"
   },
   "source": [
    "## Data Cleaning "
   ]
  },
  {
   "cell_type": "code",
   "execution_count": 3,
   "id": "91474b13-eb2d-4bfe-bb86-bd1f1f10216a",
   "metadata": {
    "colab": {
     "base_uri": "https://localhost:8080/"
    },
    "id": "91474b13-eb2d-4bfe-bb86-bd1f1f10216a",
    "outputId": "4a7cdef4-212d-4029-b76b-8b73ed0e33bf"
   },
   "outputs": [
    {
     "data": {
      "text/plain": [
       "15.474423269809428"
      ]
     },
     "execution_count": 3,
     "metadata": {},
     "output_type": "execute_result"
    }
   ],
   "source": [
    "df['Arrival Delay in Minutes'].mean()"
   ]
  },
  {
   "cell_type": "code",
   "execution_count": 4,
   "id": "ac642c28-a931-4b03-ab03-cdeeeb0e8ee5",
   "metadata": {
    "colab": {
     "base_uri": "https://localhost:8080/"
    },
    "id": "ac642c28-a931-4b03-ab03-cdeeeb0e8ee5",
    "outputId": "2451f354-3be7-4502-c062-4ce7ee4f399f"
   },
   "outputs": [
    {
     "name": "stdout",
     "output_type": "stream",
     "text": [
      "<class 'pandas.core.frame.DataFrame'>\n",
      "RangeIndex: 3000 entries, 0 to 2999\n",
      "Data columns (total 24 columns):\n",
      " #   Column                             Non-Null Count  Dtype  \n",
      "---  ------                             --------------  -----  \n",
      " 0   Unnamed: 0                         3000 non-null   int64  \n",
      " 1   id                                 3000 non-null   int64  \n",
      " 2   Gender                             3000 non-null   object \n",
      " 3   Customer Type                      3000 non-null   object \n",
      " 4   Age                                3000 non-null   int64  \n",
      " 5   Type of Travel                     3000 non-null   object \n",
      " 6   Class                              3000 non-null   object \n",
      " 7   Flight Distance                    3000 non-null   int64  \n",
      " 8   Inflight wifi service              3000 non-null   int64  \n",
      " 9   Departure/Arrival time convenient  3000 non-null   int64  \n",
      " 10  Ease of Online booking             3000 non-null   int64  \n",
      " 11  Gate location                      3000 non-null   int64  \n",
      " 12  Food and drink                     3000 non-null   int64  \n",
      " 13  Online boarding                    3000 non-null   int64  \n",
      " 14  Seat comfort                       3000 non-null   int64  \n",
      " 15  Inflight entertainment             3000 non-null   int64  \n",
      " 16  On-board service                   3000 non-null   int64  \n",
      " 17  Leg room service                   3000 non-null   int64  \n",
      " 18  Baggage handling                   3000 non-null   int64  \n",
      " 19  Checkin service                    3000 non-null   int64  \n",
      " 20  Inflight service                   3000 non-null   int64  \n",
      " 21  Cleanliness                        3000 non-null   int64  \n",
      " 22  Departure Delay in Minutes         3000 non-null   int64  \n",
      " 23  Arrival Delay in Minutes           2991 non-null   float64\n",
      "dtypes: float64(1), int64(19), object(4)\n",
      "memory usage: 562.6+ KB\n"
     ]
    }
   ],
   "source": [
    "df.info()"
   ]
  },
  {
   "cell_type": "code",
   "execution_count": 5,
   "id": "23b7f2e6-5eac-4cd0-95d2-de91e898d715",
   "metadata": {
    "colab": {
     "base_uri": "https://localhost:8080/",
     "height": 739
    },
    "id": "23b7f2e6-5eac-4cd0-95d2-de91e898d715",
    "outputId": "26d6ef14-13d1-41c3-aa3a-5c2c880e81b4"
   },
   "outputs": [
    {
     "data": {
      "text/html": [
       "<div>\n",
       "<style scoped>\n",
       "    .dataframe tbody tr th:only-of-type {\n",
       "        vertical-align: middle;\n",
       "    }\n",
       "\n",
       "    .dataframe tbody tr th {\n",
       "        vertical-align: top;\n",
       "    }\n",
       "\n",
       "    .dataframe thead th {\n",
       "        text-align: right;\n",
       "    }\n",
       "</style>\n",
       "<table border=\"1\" class=\"dataframe\">\n",
       "  <thead>\n",
       "    <tr style=\"text-align: right;\">\n",
       "      <th></th>\n",
       "      <th>0</th>\n",
       "    </tr>\n",
       "  </thead>\n",
       "  <tbody>\n",
       "    <tr>\n",
       "      <th>Gender</th>\n",
       "      <td>0.0</td>\n",
       "    </tr>\n",
       "    <tr>\n",
       "      <th>Customer Type</th>\n",
       "      <td>0.0</td>\n",
       "    </tr>\n",
       "    <tr>\n",
       "      <th>Departure Delay in Minutes</th>\n",
       "      <td>0.0</td>\n",
       "    </tr>\n",
       "    <tr>\n",
       "      <th>Cleanliness</th>\n",
       "      <td>0.0</td>\n",
       "    </tr>\n",
       "    <tr>\n",
       "      <th>Inflight service</th>\n",
       "      <td>0.0</td>\n",
       "    </tr>\n",
       "    <tr>\n",
       "      <th>Checkin service</th>\n",
       "      <td>0.0</td>\n",
       "    </tr>\n",
       "    <tr>\n",
       "      <th>Baggage handling</th>\n",
       "      <td>0.0</td>\n",
       "    </tr>\n",
       "    <tr>\n",
       "      <th>Leg room service</th>\n",
       "      <td>0.0</td>\n",
       "    </tr>\n",
       "    <tr>\n",
       "      <th>On-board service</th>\n",
       "      <td>0.0</td>\n",
       "    </tr>\n",
       "    <tr>\n",
       "      <th>Inflight entertainment</th>\n",
       "      <td>0.0</td>\n",
       "    </tr>\n",
       "    <tr>\n",
       "      <th>Seat comfort</th>\n",
       "      <td>0.0</td>\n",
       "    </tr>\n",
       "    <tr>\n",
       "      <th>Online boarding</th>\n",
       "      <td>0.0</td>\n",
       "    </tr>\n",
       "    <tr>\n",
       "      <th>Food and drink</th>\n",
       "      <td>0.0</td>\n",
       "    </tr>\n",
       "    <tr>\n",
       "      <th>Gate location</th>\n",
       "      <td>0.0</td>\n",
       "    </tr>\n",
       "    <tr>\n",
       "      <th>Ease of Online booking</th>\n",
       "      <td>0.0</td>\n",
       "    </tr>\n",
       "    <tr>\n",
       "      <th>Departure/Arrival time convenient</th>\n",
       "      <td>0.0</td>\n",
       "    </tr>\n",
       "    <tr>\n",
       "      <th>Inflight wifi service</th>\n",
       "      <td>0.0</td>\n",
       "    </tr>\n",
       "    <tr>\n",
       "      <th>Flight Distance</th>\n",
       "      <td>0.0</td>\n",
       "    </tr>\n",
       "    <tr>\n",
       "      <th>Class</th>\n",
       "      <td>0.0</td>\n",
       "    </tr>\n",
       "    <tr>\n",
       "      <th>Type of Travel</th>\n",
       "      <td>0.0</td>\n",
       "    </tr>\n",
       "    <tr>\n",
       "      <th>Age</th>\n",
       "      <td>0.0</td>\n",
       "    </tr>\n",
       "    <tr>\n",
       "      <th>Arrival Delay in Minutes</th>\n",
       "      <td>0.0</td>\n",
       "    </tr>\n",
       "  </tbody>\n",
       "</table>\n",
       "</div>"
      ],
      "text/plain": [
       "                                     0\n",
       "Gender                             0.0\n",
       "Customer Type                      0.0\n",
       "Departure Delay in Minutes         0.0\n",
       "Cleanliness                        0.0\n",
       "Inflight service                   0.0\n",
       "Checkin service                    0.0\n",
       "Baggage handling                   0.0\n",
       "Leg room service                   0.0\n",
       "On-board service                   0.0\n",
       "Inflight entertainment             0.0\n",
       "Seat comfort                       0.0\n",
       "Online boarding                    0.0\n",
       "Food and drink                     0.0\n",
       "Gate location                      0.0\n",
       "Ease of Online booking             0.0\n",
       "Departure/Arrival time convenient  0.0\n",
       "Inflight wifi service              0.0\n",
       "Flight Distance                    0.0\n",
       "Class                              0.0\n",
       "Type of Travel                     0.0\n",
       "Age                                0.0\n",
       "Arrival Delay in Minutes           0.0"
      ]
     },
     "execution_count": 5,
     "metadata": {},
     "output_type": "execute_result"
    }
   ],
   "source": [
    "df['Arrival Delay in Minutes'].fillna(15.474423, inplace=True) #removing null with avg\n",
    "\n",
    "df = df.drop(['Unnamed: 0', 'id'], axis=1)\n",
    "\n",
    "# Define a dictionary to map the categorical values to integer values\n",
    "cat_to_int = {\n",
    "    'Gender': {'Female': 0, 'Male': 1},\n",
    "    'Customer Type': {'Loyal Customer': 0, 'disloyal Customer': 1},\n",
    "    'Type of Travel': {'Business travel': 0, 'Personal Travel': 1},\n",
    "    'Class': {'Eco': 0, 'Eco Plus': 1, 'Business': 2}\n",
    "}\n",
    "\n",
    "# Use the replace() function to map the categorical values to integer values\n",
    "df.replace(cat_to_int, inplace=True)\n",
    "\n",
    "# Calculating NULL percentage in each feature\n",
    "((df.isnull().sum() / len(df))*100).sort_values(ascending=False).to_frame()\n",
    "# This shows that there are no null values in the dataset for any feature\n"
   ]
  },
  {
   "cell_type": "code",
   "execution_count": 6,
   "id": "f3502139-b646-4ea2-8979-7cfa3e3d8432",
   "metadata": {
    "colab": {
     "base_uri": "https://localhost:8080/"
    },
    "id": "f3502139-b646-4ea2-8979-7cfa3e3d8432",
    "outputId": "70e15af2-5544-48fd-d44a-54e230f14905"
   },
   "outputs": [
    {
     "name": "stdout",
     "output_type": "stream",
     "text": [
      "<class 'pandas.core.frame.DataFrame'>\n",
      "RangeIndex: 3000 entries, 0 to 2999\n",
      "Data columns (total 22 columns):\n",
      " #   Column                             Non-Null Count  Dtype  \n",
      "---  ------                             --------------  -----  \n",
      " 0   Gender                             3000 non-null   int64  \n",
      " 1   Customer Type                      3000 non-null   int64  \n",
      " 2   Age                                3000 non-null   int64  \n",
      " 3   Type of Travel                     3000 non-null   int64  \n",
      " 4   Class                              3000 non-null   int64  \n",
      " 5   Flight Distance                    3000 non-null   int64  \n",
      " 6   Inflight wifi service              3000 non-null   int64  \n",
      " 7   Departure/Arrival time convenient  3000 non-null   int64  \n",
      " 8   Ease of Online booking             3000 non-null   int64  \n",
      " 9   Gate location                      3000 non-null   int64  \n",
      " 10  Food and drink                     3000 non-null   int64  \n",
      " 11  Online boarding                    3000 non-null   int64  \n",
      " 12  Seat comfort                       3000 non-null   int64  \n",
      " 13  Inflight entertainment             3000 non-null   int64  \n",
      " 14  On-board service                   3000 non-null   int64  \n",
      " 15  Leg room service                   3000 non-null   int64  \n",
      " 16  Baggage handling                   3000 non-null   int64  \n",
      " 17  Checkin service                    3000 non-null   int64  \n",
      " 18  Inflight service                   3000 non-null   int64  \n",
      " 19  Cleanliness                        3000 non-null   int64  \n",
      " 20  Departure Delay in Minutes         3000 non-null   int64  \n",
      " 21  Arrival Delay in Minutes           3000 non-null   float64\n",
      "dtypes: float64(1), int64(21)\n",
      "memory usage: 515.8 KB\n"
     ]
    }
   ],
   "source": [
    "# Extarcting dataset information\n",
    "df.info()"
   ]
  },
  {
   "cell_type": "markdown",
   "id": "3000d95f-8cf2-42b3-8f81-89a766e4dcf9",
   "metadata": {
    "id": "3000d95f-8cf2-42b3-8f81-89a766e4dcf9"
   },
   "source": [
    "## Normalization"
   ]
  },
  {
   "cell_type": "code",
   "execution_count": 7,
   "id": "53b12cd9-5337-4a34-9c6c-b5676190d23d",
   "metadata": {
    "colab": {
     "base_uri": "https://localhost:8080/"
    },
    "id": "53b12cd9-5337-4a34-9c6c-b5676190d23d",
    "outputId": "b91ce928-2a28-440d-d0c7-580b72a93719"
   },
   "outputs": [
    {
     "data": {
      "text/plain": [
       "array([[0.00000000e+00, 0.00000000e+00, 2.86276605e-01, 0.00000000e+00,\n",
       "        0.00000000e+00, 8.80851093e-01, 2.75265967e-02, 2.20212773e-02,\n",
       "        1.65159580e-02, 2.20212773e-02, 1.65159580e-02, 2.20212773e-02,\n",
       "        1.65159580e-02, 2.75265967e-02, 2.75265967e-02, 2.75265967e-02,\n",
       "        2.75265967e-02, 1.10106387e-02, 2.75265967e-02, 2.75265967e-02,\n",
       "        2.75265967e-01, 2.42234051e-01],\n",
       "       [0.00000000e+00, 0.00000000e+00, 1.25730786e-02, 0.00000000e+00,\n",
       "        6.98504367e-04, 9.99909001e-01, 3.49252183e-04, 3.49252183e-04,\n",
       "        1.04775655e-03, 3.49252183e-04, 1.74626092e-03, 1.39700873e-03,\n",
       "        1.74626092e-03, 1.39700873e-03, 1.39700873e-03, 1.39700873e-03,\n",
       "        1.39700873e-03, 1.04775655e-03, 1.39700873e-03, 1.74626092e-03,\n",
       "        0.00000000e+00, 0.00000000e+00]])"
      ]
     },
     "execution_count": 7,
     "metadata": {},
     "output_type": "execute_result"
    }
   ],
   "source": [
    "from sklearn.preprocessing import MinMaxScaler\n",
    "\n",
    "# Select the numerical columns to be normalized\n",
    "# num_cols = ['Class','Type of Travel','Customer Type','Gender','Age', 'Flight Distance', 'Inflight wifi service', 'Departure/Arrival time convenient', \n",
    "#             'Ease of Online booking', 'Gate location', 'Food and drink', 'Online boarding', 'Seat comfort',\n",
    "#             'Inflight entertainment', 'On-board service', 'Leg room service', 'Baggage handling',\n",
    "#             'Checkin service', 'Inflight service', 'Cleanliness', 'Departure Delay in Minutes', \n",
    "#             'Arrival Delay in Minutes']\n",
    "\n",
    "# Normalize the data\n",
    "# df = (df - df.mean()) / df.std()\n",
    "\n",
    "\n",
    "\n",
    "\n",
    "\n",
    "# from sklearn.preprocessing import MinMaxScaler\n",
    "\n",
    "# # Select the numerical columns to be normalized\n",
    "num_cols = ['Class','Type of Travel','Customer Type','Gender','Age', 'Flight Distance', 'Inflight wifi service', 'Departure/Arrival time convenient', \n",
    "            'Ease of Online booking', 'Gate location', 'Food and drink', 'Online boarding', 'Seat comfort',\n",
    "            'Inflight entertainment', 'On-board service', 'Leg room service', 'Baggage handling',\n",
    "            'Checkin service', 'Inflight service', 'Cleanliness', 'Departure Delay in Minutes', \n",
    "            'Arrival Delay in Minutes']\n",
    "\n",
    "# Normalize the data\n",
    "# scaler = MinMaxScaler()\n",
    "# df[num_cols] = scaler.fit_transform(df[num_cols])\n",
    "# print(df.head())\n",
    "norms = np.linalg.norm(df.values, axis=1)\n",
    "norm_df = df.values / norms[:,np.newaxis]\n",
    "# print(df.head())\n",
    "norm_df[0:2]"
   ]
  },
  {
   "cell_type": "code",
   "execution_count": 8,
   "id": "cc0eeb0f-dbdc-48d6-8122-de10ef0c1d5c",
   "metadata": {
    "colab": {
     "base_uri": "https://localhost:8080/"
    },
    "id": "cc0eeb0f-dbdc-48d6-8122-de10ef0c1d5c",
    "outputId": "581dd0b5-627d-4419-87e2-2e0a02463046"
   },
   "outputs": [
    {
     "name": "stdout",
     "output_type": "stream",
     "text": [
      "<class 'pandas.core.frame.DataFrame'>\n",
      "RangeIndex: 3000 entries, 0 to 2999\n",
      "Data columns (total 22 columns):\n",
      " #   Column                             Non-Null Count  Dtype  \n",
      "---  ------                             --------------  -----  \n",
      " 0   Gender                             3000 non-null   int64  \n",
      " 1   Customer Type                      3000 non-null   int64  \n",
      " 2   Age                                3000 non-null   int64  \n",
      " 3   Type of Travel                     3000 non-null   int64  \n",
      " 4   Class                              3000 non-null   int64  \n",
      " 5   Flight Distance                    3000 non-null   int64  \n",
      " 6   Inflight wifi service              3000 non-null   int64  \n",
      " 7   Departure/Arrival time convenient  3000 non-null   int64  \n",
      " 8   Ease of Online booking             3000 non-null   int64  \n",
      " 9   Gate location                      3000 non-null   int64  \n",
      " 10  Food and drink                     3000 non-null   int64  \n",
      " 11  Online boarding                    3000 non-null   int64  \n",
      " 12  Seat comfort                       3000 non-null   int64  \n",
      " 13  Inflight entertainment             3000 non-null   int64  \n",
      " 14  On-board service                   3000 non-null   int64  \n",
      " 15  Leg room service                   3000 non-null   int64  \n",
      " 16  Baggage handling                   3000 non-null   int64  \n",
      " 17  Checkin service                    3000 non-null   int64  \n",
      " 18  Inflight service                   3000 non-null   int64  \n",
      " 19  Cleanliness                        3000 non-null   int64  \n",
      " 20  Departure Delay in Minutes         3000 non-null   int64  \n",
      " 21  Arrival Delay in Minutes           3000 non-null   float64\n",
      "dtypes: float64(1), int64(21)\n",
      "memory usage: 515.8 KB\n"
     ]
    }
   ],
   "source": [
    "df.info()"
   ]
  },
  {
   "cell_type": "code",
   "execution_count": 49,
   "id": "5b0354bc-5a67-428b-91dd-ce78996703a0",
   "metadata": {
    "id": "5b0354bc-5a67-428b-91dd-ce78996703a0"
   },
   "outputs": [],
   "source": []
  },
  {
   "cell_type": "markdown",
   "id": "02d1c74f-c309-4984-9fbb-a3791c2414cc",
   "metadata": {
    "id": "02d1c74f-c309-4984-9fbb-a3791c2414cc"
   },
   "source": [
    "## Task - 1 : Implementing K-means clustering and storing in cluster.txt file"
   ]
  },
  {
   "cell_type": "code",
   "execution_count": 50,
   "id": "ebb854a0-c342-433d-8d4d-a1ae73f5adf7",
   "metadata": {
    "colab": {
     "base_uri": "https://localhost:8080/"
    },
    "id": "ebb854a0-c342-433d-8d4d-a1ae73f5adf7",
    "outputId": "6eabc56b-71e6-44b0-cfdc-a7547b3d37d1"
   },
   "outputs": [
    {
     "name": "stdout",
     "output_type": "stream",
     "text": [
      "[[4.78528499e-04 0.00000000e+00 2.53620104e-02 4.78528499e-04\n",
      "  0.00000000e+00 9.99646034e-01 4.78528499e-04 4.78528499e-04\n",
      "  4.78528499e-04 1.91411400e-03 2.39264249e-03 4.78528499e-04\n",
      "  2.39264249e-03 2.39264249e-03 1.91411400e-03 2.39264249e-03\n",
      "  9.57056998e-04 1.43558550e-03 1.43558550e-03 2.39264249e-03\n",
      "  1.91411400e-03 4.30675649e-03]\n",
      " [0.00000000e+00 0.00000000e+00 2.97289726e-01 0.00000000e+00\n",
      "  1.41566536e-02 9.48495794e-01 2.83133073e-02 2.83133073e-02\n",
      "  2.83133073e-02 2.83133073e-02 2.12349805e-02 2.83133073e-02\n",
      "  2.83133073e-02 2.83133073e-02 2.83133073e-02 2.83133073e-02\n",
      "  3.53916341e-02 2.83133073e-02 2.83133073e-02 3.53916341e-02\n",
      "  0.00000000e+00 0.00000000e+00]\n",
      " [0.00000000e+00 0.00000000e+00 9.89365816e-02 0.00000000e+00\n",
      "  4.94682908e-03 9.94312645e-01 4.94682908e-03 4.94682908e-03\n",
      "  4.94682908e-03 4.94682908e-03 1.23670727e-02 1.23670727e-02\n",
      "  1.23670727e-02 1.23670727e-02 1.23670727e-02 1.23670727e-02\n",
      "  1.23670727e-02 7.42024362e-03 1.23670727e-02 1.23670727e-02\n",
      "  0.00000000e+00 0.00000000e+00]]\n"
     ]
    }
   ],
   "source": [
    "\n",
    "\n",
    "import numpy as np\n",
    "import pandas as pd\n",
    "import matplotlib.pyplot as plt\n",
    "\n",
    "# Load the dataset\n",
    "#data = pd.read_csv('/content/drive/MyDrive/travel.csv', index_col='User ID')\n",
    "\n",
    "# Define the number of clusters and maximum number of iterations\n",
    "K = 3\n",
    "max_iterations = 20\n",
    "\n",
    "# Define the distance measure (cosine similarity)\n",
    "def cosine_distance(x, y):\n",
    "    return np.dot(x, y) \n",
    "\n",
    "# Initialize the centroids randomly\n",
    "# centroids = df.sample(K).values\n",
    "centroids = np.random.choice(norm_df.shape[0], K, replace=False)\n",
    "centroids = norm_df[centroids]\n",
    "print(centroids)\n",
    "clusters = np.zeros(norm_df.shape[0])\n",
    "\n",
    "# Iterate for the specified number of iterations\n",
    "for iteration in range(max_iterations):\n",
    "    # Initialize an empty array to store the cluster labels for each data point\n",
    "    \n",
    "    # Assign each data point to the nearest centroid\n",
    "    for i in range(len(norm_df)):\n",
    "        distances = [cosine_distance(norm_df[i], centroid) for centroid in centroids]\n",
    "        clusters[i] = np.argmax(distances)\n",
    "    \n",
    "    # Update the centroids based on the mean of the data points in each cluster\n",
    "    for k in range(K):\n",
    "        cluster_points = [norm_df[i] for i in range(len(norm_df)) if clusters[i] == k]\n",
    "        centroids[k] = np.mean(cluster_points, axis=0)\n",
    "    \n",
    "# Save the clustering information to a file\n",
    "df['Cluster'] = clusters.astype(int)\n",
    "# df.to_csv('clustered_dataset.csv')\n",
    "\n",
    "# Define the name of the output file\n",
    "output_file = \"kmeans.txt\"\n",
    "\n",
    "# Save the cluster information in the output file\n",
    "with open(output_file, \"w\") as f:\n",
    "    for i in range(K):\n",
    "        cluster_points = [j for j in range(len(norm_df)) if clusters[j] == i]\n",
    "        # f.write(\"Cluster {}:\\n\".format(i+1))\n",
    "        for point in cluster_points:\n",
    "            f.write(\"{} \".format(point))\n",
    "        f.write(\"\\n\")\n",
    "        \n",
    "\n",
    "# # Plot the clusters\n",
    "# colors = ['r', 'g', 'b']\n",
    "# for k in range(K):\n",
    "#     cluster_points = np.array([df.iloc[i] for i in range(len(df)) if clusters[i] == k])\n",
    "#     plt.scatter(cluster_points[:, 0], cluster_points[:, 1], c=colors[k], alpha=0.5, label='Cluster ' + str(k+1))\n",
    "# plt.scatter(centroids[:, 0], centroids[:, 1], c='black', marker='x', s=100, label='Centroids')\n",
    "# plt.title('K-Means Clustering')\n",
    "# plt.xlabel('Category 1')\n",
    "# plt.ylabel('Category 2')\n",
    "# plt.legend()\n",
    "# plt.show()\n"
   ]
  },
  {
   "cell_type": "code",
   "execution_count": 51,
   "id": "4d8338e7-cb7e-49ec-b128-5a68c5918242",
   "metadata": {
    "colab": {
     "base_uri": "https://localhost:8080/"
    },
    "id": "4d8338e7-cb7e-49ec-b128-5a68c5918242",
    "outputId": "fb92f38b-d778-4b7f-87ba-fa48a40e617f"
   },
   "outputs": [
    {
     "name": "stdout",
     "output_type": "stream",
     "text": [
      "[2. 0. 0. ... 0. 0. 1.]\n"
     ]
    },
    {
     "data": {
      "text/plain": [
       "array([0., 1., 2.])"
      ]
     },
     "execution_count": 51,
     "metadata": {},
     "output_type": "execute_result"
    }
   ],
   "source": [
    "print(clusters)\n",
    "np.unique(clusters)"
   ]
  },
  {
   "cell_type": "markdown",
   "id": "ac90bc4b-bdb5-4384-910b-03160b04b119",
   "metadata": {
    "id": "ac90bc4b-bdb5-4384-910b-03160b04b119"
   },
   "source": [
    "## Task - 2 : Silhouette coefficient metric calculation"
   ]
  },
  {
   "cell_type": "code",
   "execution_count": 52,
   "id": "741e63b7-46b0-419c-bbd9-2973c4559d49",
   "metadata": {
    "colab": {
     "base_uri": "https://localhost:8080/"
    },
    "id": "741e63b7-46b0-419c-bbd9-2973c4559d49",
    "outputId": "31286e03-61b2-4374-e597-479ea9645009"
   },
   "outputs": [
    {
     "name": "stdout",
     "output_type": "stream",
     "text": [
      "Silhouette Coefficient: 0.8597848494141164\n"
     ]
    }
   ],
   "source": [
    "from sklearn.metrics import silhouette_score\n",
    "\n",
    "# calculate the silhouette score\n",
    "s = silhouette_score(norm_df, clusters, metric='cosine')\n",
    "\n",
    "# print the value of s\n",
    "print('Silhouette Coefficient:', s)\n"
   ]
  },
  {
   "cell_type": "markdown",
   "id": "294406ba-c69d-4974-8a16-1443ede68b01",
   "metadata": {
    "id": "294406ba-c69d-4974-8a16-1443ede68b01"
   },
   "source": [
    "## Find optimal value of k having highest value of the Silhouette Coefficient"
   ]
  },
  {
   "cell_type": "code",
   "execution_count": 53,
   "id": "5252c0b4-a467-4275-98e8-ae15af7e42f3",
   "metadata": {
    "colab": {
     "base_uri": "https://localhost:8080/"
    },
    "id": "5252c0b4-a467-4275-98e8-ae15af7e42f3",
    "outputId": "5ca7d5a3-8539-45ae-d81d-3e862129b7dc"
   },
   "outputs": [
    {
     "name": "stdout",
     "output_type": "stream",
     "text": [
      "Silhouette Coefficient for 3 clusters: 0.8586404878582596\n",
      "Silhouette Coefficient for 4 clusters: 0.797318954675178\n",
      "Silhouette Coefficient for 5 clusters: 0.8039836048397391\n",
      "Silhouette Coefficient for 6 clusters: 0.7592893673729486\n",
      "\n",
      "Maximum Silhouette Coefficient of 0.8586404878582596 is achieved for 3 clusters.\n"
     ]
    }
   ],
   "source": [
    "\n",
    "\n",
    "from sklearn.metrics import silhouette_score\n",
    "\n",
    "max_iterations = 20\n",
    "max_silhouette_score = -1\n",
    "best_a = -1\n",
    "\n",
    "for a in [3, 4, 5, 6]:\n",
    "    centroids = np.random.choice(norm_df.shape[0], a, replace=False)\n",
    "    centroids = norm_df[centroids]\n",
    "    clusters = np.zeros(norm_df.shape[0])\n",
    "\n",
    "    for iteration in range(max_iterations):\n",
    "        for i in range(len(norm_df)):\n",
    "            distances = [cosine_distance(norm_df[i], centroid) for centroid in centroids]\n",
    "            clusters[i] = np.argmax(distances)\n",
    "\n",
    "        for k in range(a):\n",
    "            cluster_points = [norm_df[i] for i in range(len(norm_df)) if clusters[i] == k]\n",
    "            centroids[k] = np.mean(cluster_points, axis=0)\n",
    "\n",
    "    s = silhouette_score(norm_df, clusters, metric='cosine')\n",
    "    print(f'Silhouette Coefficient for {a} clusters: {s}')\n",
    "\n",
    "    if s > max_silhouette_score:\n",
    "        max_silhouette_score = s\n",
    "        best_a = a\n",
    "\n",
    "print(f'\\nMaximum Silhouette Coefficient of {max_silhouette_score} is achieved for {best_a} clusters.')"
   ]
  },
  {
   "cell_type": "code",
   "execution_count": 54,
   "id": "d42cfc4a-9cb8-48c3-bf84-982f40819a1f",
   "metadata": {
    "colab": {
     "base_uri": "https://localhost:8080/"
    },
    "id": "d42cfc4a-9cb8-48c3-bf84-982f40819a1f",
    "outputId": "6989bbf2-e976-41b8-a708-26988495b582"
   },
   "outputs": [
    {
     "data": {
      "text/plain": [
       "array([2., 3., 3., ..., 3., 3., 1.])"
      ]
     },
     "execution_count": 54,
     "metadata": {},
     "output_type": "execute_result"
    }
   ],
   "source": [
    "clusters"
   ]
  },
  {
   "cell_type": "markdown",
   "id": "c5a7fdf7-540c-447c-ae37-2ebf995f1855",
   "metadata": {
    "id": "c5a7fdf7-540c-447c-ae37-2ebf995f1855"
   },
   "source": [
    "## Implementation of Single Linkage Agglomerative (Bottom-Up) Clustering algorithm"
   ]
  },
  {
   "cell_type": "code",
   "execution_count": 10,
   "id": "ca5ebcb9-8bc3-4488-b65a-f83cbecbce8b",
   "metadata": {
    "id": "ca5ebcb9-8bc3-4488-b65a-f83cbecbce8b"
   },
   "outputs": [],
   "source": [
    "import math\n",
    "\n",
    "def distance(p, q):\n",
    "    return np.dot(p, q) / np.linalg.norm(p)*np.linalg.norm(q)\n",
    "\n",
    "\n",
    "def single_link(ci, cj):\n",
    "    return min([distance(vi, vj) for vi in ci for vj in cj])\n",
    "\n",
    "\n",
    "\n",
    "\n",
    "def get_distance_measure(M):\n",
    "    if M == 0:\n",
    "        return single_link\n",
    "   \n",
    "\n",
    "class AgglomerativeHierarchicalClustering:\n",
    "    def __init__(self, data, K, M):\n",
    "        self.data = data\n",
    "        self.N = len(data)\n",
    "        self.K = K\n",
    "        self.measure = get_distance_measure(M)\n",
    "        self.clusters, self.inds = self.init_clusters()\n",
    "        print(len(self.inds.keys()))\n",
    "    def init_clusters(self):\n",
    "        return {data_id: [data_point] for data_id, data_point in enumerate(self.data)}, {data_id: [data_id] for data_id, data_point in enumerate(self.data)}\n",
    "\n",
    "    def find_closest_clusters(self):\n",
    "        min_dist = math.inf\n",
    "        closest_clusters = None\n",
    "\n",
    "        clusters_ids = list(self.clusters.keys())\n",
    "\n",
    "        for i, cluster_i in enumerate(clusters_ids[:-1]):\n",
    "            for j, cluster_j in enumerate(clusters_ids[i+1:]):\n",
    "                dist = self.measure(self.clusters[cluster_i], self.clusters[cluster_j])\n",
    "                if dist < min_dist:\n",
    "                    min_dist, closest_clusters = dist, (cluster_i, cluster_j)\n",
    "        return closest_clusters\n",
    "\n",
    "    def merge_and_form_new_clusters(self, ci_id, cj_id):\n",
    "        new_clusters = {0: self.clusters[ci_id] + self.clusters[cj_id]}\n",
    "        inds = {0: self.inds[ci_id] + self.inds[cj_id]}\n",
    "        for cluster_id in self.clusters.keys():\n",
    "            if (cluster_id == ci_id) | (cluster_id == cj_id):\n",
    "                continue\n",
    "            new_clusters[len(new_clusters.keys())] = self.clusters[cluster_id]\n",
    "            inds[len(inds.keys())] = self.inds[cluster_id]\n",
    "            \n",
    "        return new_clusters, inds\n",
    "\n",
    "    def run_algorithm(self):\n",
    "        while len(self.clusters.keys()) > self.K:\n",
    "            closest_clusters = self.find_closest_clusters()\n",
    "            self.clusters, self.inds = self.merge_and_form_new_clusters(*closest_clusters)\n",
    "\n",
    "    def getCentroids(self):\n",
    "        return self.inds"
   ]
  },
  {
   "cell_type": "code",
   "execution_count": 11,
   "id": "dc33d530",
   "metadata": {
    "colab": {
     "base_uri": "https://localhost:8080/"
    },
    "id": "dc33d530",
    "outputId": "bbdfee26-836f-4ffa-9338-96ca5f80bb36"
   },
   "outputs": [
    {
     "name": "stdout",
     "output_type": "stream",
     "text": [
      "3000\n"
     ]
    }
   ],
   "source": [
    "# d = AgglomerativeHierarchicalClustering(np.array(df.iloc[0:500]), 3, 0)\n",
    "d = AgglomerativeHierarchicalClustering(norm_df, 3, 0)"
   ]
  },
  {
   "cell_type": "code",
   "execution_count": 57,
   "id": "5c63b991",
   "metadata": {
    "id": "5c63b991"
   },
   "outputs": [],
   "source": [
    "d.run_algorithm()"
   ]
  },
  {
   "cell_type": "code",
   "execution_count": 58,
   "id": "d270ba86",
   "metadata": {
    "id": "d270ba86"
   },
   "outputs": [],
   "source": [
    "inds = d.getCentroids()"
   ]
  },
  {
   "cell_type": "code",
   "execution_count": 59,
   "id": "e3cf5939",
   "metadata": {
    "id": "e3cf5939"
   },
   "outputs": [],
   "source": [
    "# inds"
   ]
  },
  {
   "cell_type": "markdown",
   "id": "I7X9PHZArcjs",
   "metadata": {
    "id": "I7X9PHZArcjs"
   },
   "source": [
    "## Storing Cluster information in agglomerative.txt file"
   ]
  },
  {
   "cell_type": "code",
   "execution_count": 60,
   "id": "bf1898e1",
   "metadata": {
    "id": "bf1898e1"
   },
   "outputs": [],
   "source": [
    "with open('agglomerative.txt', 'w') as f:\n",
    "    for values in inds.values():\n",
    "        f.write(' '.join([str(val) for val in values]) + '\\n')\n",
    "        \n",
    "        \n",
    "# with open(\"Aglo_cluster.txt\", \"w\") as f:\n",
    "#     for k in sorted(inds.keys()):\n",
    "#         row = \",\".join(map(str, inds[k]))\n",
    "#         f.write(row + \"\\n\")\n"
   ]
  },
  {
   "cell_type": "markdown",
   "id": "RUjLypZUr7CR",
   "metadata": {
    "id": "RUjLypZUr7CR"
   },
   "source": [
    "## Finding Jaccard Similarity"
   ]
  },
  {
   "cell_type": "code",
   "execution_count": 12,
   "id": "66f4a507-7e98-46a6-9e3c-987bd79171cf",
   "metadata": {
    "colab": {
     "base_uri": "https://localhost:8080/"
    },
    "id": "66f4a507-7e98-46a6-9e3c-987bd79171cf",
    "outputId": "424beb30-4751-48cc-a8f4-489e9d6c489b"
   },
   "outputs": [
    {
     "name": "stdout",
     "output_type": "stream",
     "text": [
      "[0.8995132127955494, 0.04429482636428065, 0.012168933428775949]\n",
      "[0.033655567490153956, 0.2576271186440678, 0.0]\n",
      "[0.013019891500904159, 0.0, 0.4067796610169492]\n"
     ]
    }
   ],
   "source": [
    "def jaccard_similarity(set1, set2):\n",
    "    intersection = set1.intersection(set2)\n",
    "    union = set1.union(set2)\n",
    "    return len(intersection) / len(union)\n",
    "\n",
    "kmeans_clusters = []\n",
    "agglomerative_clusters = []\n",
    "\n",
    "# read clusters from kmeans.txt\n",
    "with open('kmeans.txt', 'r') as f:\n",
    "    for line in f:\n",
    "        cluster = set(line.strip().split())\n",
    "        kmeans_clusters.append(cluster)\n",
    "\n",
    "# read clusters from agglomerative.txt\n",
    "with open('agglomerative.txt', 'r') as f:\n",
    "    for line in f:\n",
    "        cluster = set(line.strip().split())\n",
    "        agglomerative_clusters.append(cluster)\n",
    "\n",
    "# compute Jaccard similarity between corresponding sets\n",
    "jaccard_matrix = []\n",
    "for i in range(len(kmeans_clusters)):\n",
    "    row = []\n",
    "    for j in range(len(agglomerative_clusters)):\n",
    "        similarity = jaccard_similarity(kmeans_clusters[i], agglomerative_clusters[j])\n",
    "        row.append(similarity)\n",
    "    jaccard_matrix.append(row)\n",
    "\n",
    "# print the Jaccard similarity matrix\n",
    "for row in jaccard_matrix:\n",
    "    print(row)"
   ]
  },
  {
   "cell_type": "code",
   "execution_count": null,
   "id": "13605937-31b3-4ebf-8e61-a01bb8eabd8e",
   "metadata": {},
   "outputs": [],
   "source": []
  }
 ],
 "metadata": {
  "colab": {
   "provenance": []
  },
  "gpuClass": "standard",
  "kernelspec": {
   "display_name": "Python 3 (ipykernel)",
   "language": "python",
   "name": "python3"
  },
  "language_info": {
   "codemirror_mode": {
    "name": "ipython",
    "version": 3
   },
   "file_extension": ".py",
   "mimetype": "text/x-python",
   "name": "python",
   "nbconvert_exporter": "python",
   "pygments_lexer": "ipython3",
   "version": "3.11.1"
  }
 },
 "nbformat": 4,
 "nbformat_minor": 5
}
